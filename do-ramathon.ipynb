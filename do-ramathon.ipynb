{
 "cells": [
  {
   "cell_type": "markdown",
   "id": "ce5d6700",
   "metadata": {},
   "source": [
    "# DataOverflow Ramathon"
   ]
  },
  {
   "cell_type": "markdown",
   "id": "0066d153",
   "metadata": {},
   "source": [
    "https://www.kaggle.com/competitions/dataoverflow-ramathon/overview/description"
   ]
  },
  {
   "cell_type": "code",
   "execution_count": 1,
   "id": "42227f6c",
   "metadata": {
    "execution": {
     "iopub.execute_input": "2022-04-17T20:36:51.310671Z",
     "iopub.status.busy": "2022-04-17T20:36:51.308831Z",
     "iopub.status.idle": "2022-04-17T20:36:51.314561Z",
     "shell.execute_reply": "2022-04-17T20:36:51.315101Z",
     "shell.execute_reply.started": "2022-04-17T20:30:18.247803Z"
    },
    "papermill": {
     "duration": 0.05207,
     "end_time": "2022-04-17T20:36:51.315435",
     "exception": false,
     "start_time": "2022-04-17T20:36:51.263365",
     "status": "completed"
    },
    "tags": []
   },
   "outputs": [],
   "source": [
    "#!pip install -U dataprep"
   ]
  },
  {
   "cell_type": "code",
   "execution_count": 2,
   "id": "d52650bc",
   "metadata": {
    "_cell_guid": "b1076dfc-b9ad-4769-8c92-a6c4dae69d19",
    "_uuid": "8f2839f25d086af736a60e9eeb907d3b93b6e0e5",
    "execution": {
     "iopub.execute_input": "2022-04-17T20:36:51.392009Z",
     "iopub.status.busy": "2022-04-17T20:36:51.391398Z",
     "iopub.status.idle": "2022-04-17T20:36:51.404815Z",
     "shell.execute_reply": "2022-04-17T20:36:51.405357Z",
     "shell.execute_reply.started": "2022-04-17T20:30:18.271736Z"
    },
    "papermill": {
     "duration": 0.05279,
     "end_time": "2022-04-17T20:36:51.405533",
     "exception": false,
     "start_time": "2022-04-17T20:36:51.352743",
     "status": "completed"
    },
    "tags": []
   },
   "outputs": [],
   "source": [
    "# This Python 3 environment comes with many helpful analytics libraries installed\n",
    "# It is defined by the kaggle/python Docker image: https://github.com/kaggle/docker-python\n",
    "# For example, here's several helpful packages to load\n",
    "\n",
    "import numpy as np # linear algebra\n",
    "import pandas as pd # data processing, CSV file I/O (e.g. pd.read_csv)\n",
    "\n",
    "# Input data files are available in the read-only \"../input/\" directory\n",
    "# For example, running this (by clicking run or pressing Shift+Enter) will list all files under the input directory\n",
    "\n",
    "import os\n",
    "for dirname, _, filenames in os.walk('/kaggle/input'):\n",
    "    for filename in filenames:\n",
    "        print(os.path.join(dirname, filename))\n",
    "\n",
    "# You can write up to 20GB to the current directory (/kaggle/working/) that gets preserved as output when you create a version using \"Save & Run All\" \n",
    "# You can also write temporary files to /kaggle/temp/, but they won't be saved outside of the current session"
   ]
  },
  {
   "cell_type": "code",
   "execution_count": 3,
   "id": "c4f4300c",
   "metadata": {
    "execution": {
     "iopub.execute_input": "2022-04-17T20:36:51.489499Z",
     "iopub.status.busy": "2022-04-17T20:36:51.488779Z",
     "iopub.status.idle": "2022-04-17T20:36:52.828618Z",
     "shell.execute_reply": "2022-04-17T20:36:52.829190Z",
     "shell.execute_reply.started": "2022-04-17T20:30:18.286871Z"
    },
    "papermill": {
     "duration": 1.386087,
     "end_time": "2022-04-17T20:36:52.829400",
     "exception": false,
     "start_time": "2022-04-17T20:36:51.443313",
     "status": "completed"
    },
    "tags": []
   },
   "outputs": [],
   "source": [
    "#from dataprep.eda import create_report\n",
    "from sklearn.model_selection import train_test_split\n",
    "from sklearn.metrics import auc, classification_report, roc_auc_score\n",
    "from sklearn.ensemble import RandomForestClassifier\n",
    "from sklearn.linear_model import LogisticRegression\n",
    "from sklearn.preprocessing import OrdinalEncoder\n",
    "import warnings\n",
    "from sklearn.compose import make_column_transformer\n",
    "from sklearn.preprocessing import MinMaxScaler, OneHotEncoder\n",
    "from sklearn.preprocessing import StandardScaler\n",
    "from sklearn.linear_model import LogisticRegression\n",
    "from sklearn.tree import DecisionTreeClassifier\n",
    "from sklearn.neighbors import KNeighborsClassifier as KNN\n",
    "from sklearn.ensemble import VotingClassifier\n",
    "from sklearn.metrics import accuracy_score\n",
    "# machine learning\n",
    "from sklearn.linear_model import LogisticRegression, RidgeClassifierCV\n",
    "from sklearn.svm import SVC, LinearSVC\n",
    "from sklearn.ensemble import (RandomForestClassifier, GradientBoostingClassifier)\n",
    "from sklearn.neighbors import KNeighborsClassifier\n",
    "from sklearn.naive_bayes import GaussianNB\n",
    "from sklearn.linear_model import Perceptron\n",
    "from sklearn.linear_model import SGDClassifier\n",
    "from sklearn.tree import DecisionTreeClassifier\n",
    "from sklearn.model_selection import cross_val_score, GridSearchCV\n",
    "\n",
    "warnings.filterwarnings('ignore')"
   ]
  },
  {
   "cell_type": "markdown",
   "id": "fe16b0d3",
   "metadata": {
    "papermill": {
     "duration": 0.036984,
     "end_time": "2022-04-17T20:36:52.904038",
     "exception": false,
     "start_time": "2022-04-17T20:36:52.867054",
     "status": "completed"
    },
    "tags": []
   },
   "source": [
    "### Reading Data"
   ]
  },
  {
   "cell_type": "code",
   "execution_count": 4,
   "id": "0c51c525",
   "metadata": {
    "execution": {
     "iopub.execute_input": "2022-04-17T20:36:52.986960Z",
     "iopub.status.busy": "2022-04-17T20:36:52.985969Z",
     "iopub.status.idle": "2022-04-17T20:36:53.544094Z",
     "shell.execute_reply": "2022-04-17T20:36:53.544628Z",
     "shell.execute_reply.started": "2022-04-17T20:30:19.619540Z"
    },
    "papermill": {
     "duration": 0.603019,
     "end_time": "2022-04-17T20:36:53.544816",
     "exception": false,
     "start_time": "2022-04-17T20:36:52.941797",
     "status": "completed"
    },
    "tags": []
   },
   "outputs": [],
   "source": [
    "train=pd.read_csv('train.csv')\n",
    "test=pd.read_csv('test.csv')\n",
    "sample=pd.read_csv('sample_submission.csv')"
   ]
  },
  {
   "cell_type": "code",
   "execution_count": 5,
   "id": "9f10a850",
   "metadata": {
    "execution": {
     "iopub.execute_input": "2022-04-17T20:36:53.627214Z",
     "iopub.status.busy": "2022-04-17T20:36:53.626583Z",
     "iopub.status.idle": "2022-04-17T20:36:53.758598Z",
     "shell.execute_reply": "2022-04-17T20:36:53.759100Z",
     "shell.execute_reply.started": "2022-04-17T20:30:20.169393Z"
    },
    "papermill": {
     "duration": 0.173146,
     "end_time": "2022-04-17T20:36:53.759352",
     "exception": false,
     "start_time": "2022-04-17T20:36:53.586206",
     "status": "completed"
    },
    "tags": []
   },
   "outputs": [],
   "source": [
    "train.dropna(inplace=True)\n",
    "train = train.drop('IMPORTER.TIN', 1)\n",
    "test = test.drop('IMPORTER.TIN', 1)"
   ]
  },
  {
   "cell_type": "code",
   "execution_count": null,
   "id": "4efa286a",
   "metadata": {
    "papermill": {
     "duration": 0.039519,
     "end_time": "2022-04-17T20:36:53.838977",
     "exception": false,
     "start_time": "2022-04-17T20:36:53.799458",
     "status": "completed"
    },
    "tags": []
   },
   "outputs": [],
   "source": []
  },
  {
   "cell_type": "code",
   "execution_count": 6,
   "id": "7e89e5b2",
   "metadata": {
    "execution": {
     "iopub.execute_input": "2022-04-17T20:36:53.931140Z",
     "iopub.status.busy": "2022-04-17T20:36:53.930460Z",
     "iopub.status.idle": "2022-04-17T20:36:53.942323Z",
     "shell.execute_reply": "2022-04-17T20:36:53.942931Z",
     "shell.execute_reply.started": "2022-04-17T20:30:20.290813Z"
    },
    "papermill": {
     "duration": 0.064018,
     "end_time": "2022-04-17T20:36:53.943105",
     "exception": false,
     "start_time": "2022-04-17T20:36:53.879087",
     "status": "completed"
    },
    "tags": []
   },
   "outputs": [],
   "source": [
    "scale= StandardScaler()\n",
    "scaled_data = scale.fit_transform(train[['CIF_USD_EQUIVALENT', 'QUANTITY', 'GROSS.WEIGHT', 'TOTAL.TAXES.USD']]) \n",
    "train[['CIF_USD_EQUIVALENT', 'QUANTITY', 'GROSS.WEIGHT', 'TOTAL.TAXES.USD']] = scaled_data"
   ]
  },
  {
   "cell_type": "code",
   "execution_count": 7,
   "id": "42236525",
   "metadata": {
    "execution": {
     "iopub.execute_input": "2022-04-17T20:36:54.026630Z",
     "iopub.status.busy": "2022-04-17T20:36:54.024783Z",
     "iopub.status.idle": "2022-04-17T20:36:54.193523Z",
     "shell.execute_reply": "2022-04-17T20:36:54.192978Z",
     "shell.execute_reply.started": "2022-04-17T20:30:20.316678Z"
    },
    "papermill": {
     "duration": 0.21328,
     "end_time": "2022-04-17T20:36:54.193659",
     "exception": false,
     "start_time": "2022-04-17T20:36:53.980379",
     "status": "completed"
    },
    "tags": []
   },
   "outputs": [
    {
     "data": {
      "text/plain": [
       "\"\\ntransformer = make_column_transformer(\\n    (MinMaxScaler(), \\n        ['CIF_USD_EQUIVALENT','QUANTITY', 'GROSS.WEIGHT','TOTAL.TAXES.USD','TARIFF.CODE']),\\n    (OneHotEncoder(handle_unknown='ignore'), \\n        ['OFFICE','ORIGIN.CODE']))\\n\\n# Fit\\ntransformer.fit(train)\\n\\n# Apply the transformation\\ntrain = transformer.transform(train)\\ntest = transformer.transform(test)\\n\""
      ]
     },
     "execution_count": 7,
     "metadata": {},
     "output_type": "execute_result"
    }
   ],
   "source": [
    "# Handling categorical attributes\n",
    "\n",
    "ordinal_encoder = OrdinalEncoder()\n",
    "train['OFFICE'] = ordinal_encoder.fit_transform(train[['OFFICE']])\n",
    "#train['IMPORTER.TIN'] = ordinal_encoder.fit_transform(train[['IMPORTER.TIN']])\n",
    "train['ORIGIN.CODE'] = ordinal_encoder.fit_transform(train[['ORIGIN.CODE']])\n",
    "\n",
    "\n",
    "test['OFFICE'] = ordinal_encoder.fit_transform(test[['OFFICE']])\n",
    "#test['IMPORTER.TIN'] = ordinal_encoder.fit_transform(test[['IMPORTER.TIN']])\n",
    "test['ORIGIN.CODE'] = ordinal_encoder.fit_transform(test[['ORIGIN.CODE']])\n",
    "'''\n",
    "transformer = make_column_transformer(\n",
    "    (MinMaxScaler(), \n",
    "        ['CIF_USD_EQUIVALENT','QUANTITY', 'GROSS.WEIGHT','TOTAL.TAXES.USD','TARIFF.CODE']),\n",
    "    (OneHotEncoder(handle_unknown='ignore'), \n",
    "        ['OFFICE','ORIGIN.CODE']))\n",
    "\n",
    "# Fit\n",
    "transformer.fit(train)\n",
    "\n",
    "# Apply the transformation\n",
    "train = transformer.transform(train)\n",
    "test = transformer.transform(test)\n",
    "'''"
   ]
  },
  {
   "cell_type": "code",
   "execution_count": 8,
   "id": "345ad44a",
   "metadata": {
    "execution": {
     "iopub.execute_input": "2022-04-17T20:36:54.275813Z",
     "iopub.status.busy": "2022-04-17T20:36:54.275076Z",
     "iopub.status.idle": "2022-04-17T20:36:54.295877Z",
     "shell.execute_reply": "2022-04-17T20:36:54.295207Z",
     "shell.execute_reply.started": "2022-04-17T20:30:20.491605Z"
    },
    "papermill": {
     "duration": 0.062332,
     "end_time": "2022-04-17T20:36:54.296059",
     "exception": false,
     "start_time": "2022-04-17T20:36:54.233727",
     "status": "completed"
    },
    "tags": []
   },
   "outputs": [
    {
     "data": {
      "text/html": [
       "<div>\n",
       "<style scoped>\n",
       "    .dataframe tbody tr th:only-of-type {\n",
       "        vertical-align: middle;\n",
       "    }\n",
       "\n",
       "    .dataframe tbody tr th {\n",
       "        vertical-align: top;\n",
       "    }\n",
       "\n",
       "    .dataframe thead th {\n",
       "        text-align: right;\n",
       "    }\n",
       "</style>\n",
       "<table border=\"1\" class=\"dataframe\">\n",
       "  <thead>\n",
       "    <tr style=\"text-align: right;\">\n",
       "      <th></th>\n",
       "      <th>ID</th>\n",
       "      <th>OFFICE</th>\n",
       "      <th>TARIFF.CODE</th>\n",
       "      <th>ORIGIN.CODE</th>\n",
       "      <th>CIF_USD_EQUIVALENT</th>\n",
       "      <th>QUANTITY</th>\n",
       "      <th>GROSS.WEIGHT</th>\n",
       "      <th>TOTAL.TAXES.USD</th>\n",
       "      <th>illicit</th>\n",
       "      <th>date</th>\n",
       "    </tr>\n",
       "  </thead>\n",
       "  <tbody>\n",
       "    <tr>\n",
       "      <th>0</th>\n",
       "      <td>0</td>\n",
       "      <td>62.0</td>\n",
       "      <td>8703232225</td>\n",
       "      <td>83.0</td>\n",
       "      <td>0.395796</td>\n",
       "      <td>-0.097863</td>\n",
       "      <td>-0.133495</td>\n",
       "      <td>-0.029640</td>\n",
       "      <td>0</td>\n",
       "      <td>2013-01-01</td>\n",
       "    </tr>\n",
       "    <tr>\n",
       "      <th>1</th>\n",
       "      <td>1</td>\n",
       "      <td>41.0</td>\n",
       "      <td>8703321220</td>\n",
       "      <td>40.0</td>\n",
       "      <td>-0.183059</td>\n",
       "      <td>-0.097863</td>\n",
       "      <td>0.170308</td>\n",
       "      <td>-0.220362</td>\n",
       "      <td>0</td>\n",
       "      <td>2013-01-01</td>\n",
       "    </tr>\n",
       "    <tr>\n",
       "      <th>2</th>\n",
       "      <td>2</td>\n",
       "      <td>61.0</td>\n",
       "      <td>8704212025</td>\n",
       "      <td>83.0</td>\n",
       "      <td>-0.199753</td>\n",
       "      <td>-0.097863</td>\n",
       "      <td>0.685012</td>\n",
       "      <td>0.111631</td>\n",
       "      <td>0</td>\n",
       "      <td>2013-01-01</td>\n",
       "    </tr>\n",
       "    <tr>\n",
       "      <th>3</th>\n",
       "      <td>3</td>\n",
       "      <td>62.0</td>\n",
       "      <td>3901100000</td>\n",
       "      <td>24.0</td>\n",
       "      <td>-0.183192</td>\n",
       "      <td>-0.059830</td>\n",
       "      <td>-0.137239</td>\n",
       "      <td>-0.049420</td>\n",
       "      <td>0</td>\n",
       "      <td>2013-01-01</td>\n",
       "    </tr>\n",
       "    <tr>\n",
       "      <th>4</th>\n",
       "      <td>4</td>\n",
       "      <td>61.0</td>\n",
       "      <td>8517180000</td>\n",
       "      <td>94.0</td>\n",
       "      <td>-0.199395</td>\n",
       "      <td>0.034942</td>\n",
       "      <td>-0.184665</td>\n",
       "      <td>-0.215002</td>\n",
       "      <td>0</td>\n",
       "      <td>2013-01-01</td>\n",
       "    </tr>\n",
       "  </tbody>\n",
       "</table>\n",
       "</div>"
      ],
      "text/plain": [
       "   ID  OFFICE  TARIFF.CODE  ORIGIN.CODE  CIF_USD_EQUIVALENT  QUANTITY  \\\n",
       "0   0    62.0   8703232225         83.0            0.395796 -0.097863   \n",
       "1   1    41.0   8703321220         40.0           -0.183059 -0.097863   \n",
       "2   2    61.0   8704212025         83.0           -0.199753 -0.097863   \n",
       "3   3    62.0   3901100000         24.0           -0.183192 -0.059830   \n",
       "4   4    61.0   8517180000         94.0           -0.199395  0.034942   \n",
       "\n",
       "   GROSS.WEIGHT  TOTAL.TAXES.USD  illicit        date  \n",
       "0     -0.133495        -0.029640        0  2013-01-01  \n",
       "1      0.170308        -0.220362        0  2013-01-01  \n",
       "2      0.685012         0.111631        0  2013-01-01  \n",
       "3     -0.137239        -0.049420        0  2013-01-01  \n",
       "4     -0.184665        -0.215002        0  2013-01-01  "
      ]
     },
     "execution_count": 8,
     "metadata": {},
     "output_type": "execute_result"
    }
   ],
   "source": [
    "train.head()"
   ]
  },
  {
   "cell_type": "code",
   "execution_count": 9,
   "id": "5d7fe24c",
   "metadata": {
    "execution": {
     "iopub.execute_input": "2022-04-17T20:36:54.373826Z",
     "iopub.status.busy": "2022-04-17T20:36:54.373200Z",
     "iopub.status.idle": "2022-04-17T20:36:54.378121Z",
     "shell.execute_reply": "2022-04-17T20:36:54.378701Z",
     "shell.execute_reply.started": "2022-04-17T20:30:20.514454Z"
    },
    "papermill": {
     "duration": 0.045474,
     "end_time": "2022-04-17T20:36:54.378868",
     "exception": false,
     "start_time": "2022-04-17T20:36:54.333394",
     "status": "completed"
    },
    "tags": []
   },
   "outputs": [
    {
     "name": "stdout",
     "output_type": "stream",
     "text": [
      "Shape of Train Dataset: (157244, 10)\n",
      "Shape of Test Dataset: (40000, 9)\n"
     ]
    }
   ],
   "source": [
    "print(\"Shape of Train Dataset: \"+str(train.shape))\n",
    "print(\"Shape of Test Dataset: \"+str(test.shape))"
   ]
  },
  {
   "cell_type": "markdown",
   "id": "968f8c03",
   "metadata": {
    "papermill": {
     "duration": 0.038103,
     "end_time": "2022-04-17T20:36:54.456247",
     "exception": false,
     "start_time": "2022-04-17T20:36:54.418144",
     "status": "completed"
    },
    "tags": []
   },
   "source": [
    "#### If we exclude the ID column so we have 9 columns to use as features and we are going to predict the illicit column"
   ]
  },
  {
   "cell_type": "markdown",
   "id": "ee9432db",
   "metadata": {
    "papermill": {
     "duration": 0.03842,
     "end_time": "2022-04-17T20:36:54.532657",
     "exception": false,
     "start_time": "2022-04-17T20:36:54.494237",
     "status": "completed"
    },
    "tags": []
   },
   "source": [
    "### Let's check the type of these columns"
   ]
  },
  {
   "cell_type": "code",
   "execution_count": 10,
   "id": "146365ca",
   "metadata": {
    "execution": {
     "iopub.execute_input": "2022-04-17T20:36:54.615745Z",
     "iopub.status.busy": "2022-04-17T20:36:54.614789Z",
     "iopub.status.idle": "2022-04-17T20:36:54.652319Z",
     "shell.execute_reply": "2022-04-17T20:36:54.652908Z",
     "shell.execute_reply.started": "2022-04-17T20:30:20.522259Z"
    },
    "papermill": {
     "duration": 0.080803,
     "end_time": "2022-04-17T20:36:54.653081",
     "exception": false,
     "start_time": "2022-04-17T20:36:54.572278",
     "status": "completed"
    },
    "tags": []
   },
   "outputs": [
    {
     "name": "stdout",
     "output_type": "stream",
     "text": [
      "<class 'pandas.core.frame.DataFrame'>\n",
      "Int64Index: 157244 entries, 0 to 159999\n",
      "Data columns (total 10 columns):\n",
      " #   Column              Non-Null Count   Dtype  \n",
      "---  ------              --------------   -----  \n",
      " 0   ID                  157244 non-null  int64  \n",
      " 1   OFFICE              157244 non-null  float64\n",
      " 2   TARIFF.CODE         157244 non-null  int64  \n",
      " 3   ORIGIN.CODE         157244 non-null  float64\n",
      " 4   CIF_USD_EQUIVALENT  157244 non-null  float64\n",
      " 5   QUANTITY            157244 non-null  float64\n",
      " 6   GROSS.WEIGHT        157244 non-null  float64\n",
      " 7   TOTAL.TAXES.USD     157244 non-null  float64\n",
      " 8   illicit             157244 non-null  int64  \n",
      " 9   date                157244 non-null  object \n",
      "dtypes: float64(6), int64(3), object(1)\n",
      "memory usage: 13.2+ MB\n"
     ]
    }
   ],
   "source": [
    "train.info()"
   ]
  },
  {
   "cell_type": "code",
   "execution_count": 11,
   "id": "50897c46",
   "metadata": {
    "execution": {
     "iopub.execute_input": "2022-04-17T20:36:54.740628Z",
     "iopub.status.busy": "2022-04-17T20:36:54.739819Z",
     "iopub.status.idle": "2022-04-17T20:36:54.756592Z",
     "shell.execute_reply": "2022-04-17T20:36:54.755870Z",
     "shell.execute_reply.started": "2022-04-17T20:30:20.569293Z"
    },
    "papermill": {
     "duration": 0.062794,
     "end_time": "2022-04-17T20:36:54.756741",
     "exception": false,
     "start_time": "2022-04-17T20:36:54.693947",
     "status": "completed"
    },
    "tags": []
   },
   "outputs": [
    {
     "name": "stdout",
     "output_type": "stream",
     "text": [
      "<class 'pandas.core.frame.DataFrame'>\n",
      "RangeIndex: 40000 entries, 0 to 39999\n",
      "Data columns (total 9 columns):\n",
      " #   Column              Non-Null Count  Dtype  \n",
      "---  ------              --------------  -----  \n",
      " 0   ID                  40000 non-null  int64  \n",
      " 1   OFFICE              40000 non-null  float64\n",
      " 2   TARIFF.CODE         40000 non-null  int64  \n",
      " 3   ORIGIN.CODE         40000 non-null  float64\n",
      " 4   CIF_USD_EQUIVALENT  40000 non-null  float64\n",
      " 5   QUANTITY            40000 non-null  float64\n",
      " 6   GROSS.WEIGHT        40000 non-null  float64\n",
      " 7   TOTAL.TAXES.USD     40000 non-null  float64\n",
      " 8   date                39786 non-null  object \n",
      "dtypes: float64(6), int64(2), object(1)\n",
      "memory usage: 2.7+ MB\n"
     ]
    }
   ],
   "source": [
    "test.info()"
   ]
  },
  {
   "cell_type": "markdown",
   "id": "ce33225f",
   "metadata": {
    "papermill": {
     "duration": 0.038402,
     "end_time": "2022-04-17T20:36:54.834516",
     "exception": false,
     "start_time": "2022-04-17T20:36:54.796114",
     "status": "completed"
    },
    "tags": []
   },
   "source": [
    "#### We have 4 columns considered as Categorical features and the rest are numerical features"
   ]
  },
  {
   "cell_type": "markdown",
   "id": "f376e9fb",
   "metadata": {
    "papermill": {
     "duration": 0.041044,
     "end_time": "2022-04-17T20:36:54.914547",
     "exception": false,
     "start_time": "2022-04-17T20:36:54.873503",
     "status": "completed"
    },
    "tags": []
   },
   "source": [
    "#### Let's check for missing values"
   ]
  },
  {
   "cell_type": "code",
   "execution_count": 12,
   "id": "56af37ea",
   "metadata": {
    "execution": {
     "iopub.execute_input": "2022-04-17T20:36:54.997373Z",
     "iopub.status.busy": "2022-04-17T20:36:54.996742Z",
     "iopub.status.idle": "2022-04-17T20:36:55.023109Z",
     "shell.execute_reply": "2022-04-17T20:36:55.023576Z",
     "shell.execute_reply.started": "2022-04-17T20:30:20.592474Z"
    },
    "papermill": {
     "duration": 0.068098,
     "end_time": "2022-04-17T20:36:55.023760",
     "exception": false,
     "start_time": "2022-04-17T20:36:54.955662",
     "status": "completed"
    },
    "tags": []
   },
   "outputs": [
    {
     "data": {
      "text/plain": [
       "ID                    0\n",
       "OFFICE                0\n",
       "TARIFF.CODE           0\n",
       "ORIGIN.CODE           0\n",
       "CIF_USD_EQUIVALENT    0\n",
       "QUANTITY              0\n",
       "GROSS.WEIGHT          0\n",
       "TOTAL.TAXES.USD       0\n",
       "illicit               0\n",
       "date                  0\n",
       "dtype: int64"
      ]
     },
     "execution_count": 12,
     "metadata": {},
     "output_type": "execute_result"
    }
   ],
   "source": [
    "train.isna().sum()"
   ]
  },
  {
   "cell_type": "code",
   "execution_count": 13,
   "id": "a12b1905",
   "metadata": {
    "execution": {
     "iopub.execute_input": "2022-04-17T20:36:55.104554Z",
     "iopub.status.busy": "2022-04-17T20:36:55.103900Z",
     "iopub.status.idle": "2022-04-17T20:36:55.115978Z",
     "shell.execute_reply": "2022-04-17T20:36:55.116456Z",
     "shell.execute_reply.started": "2022-04-17T20:30:20.622228Z"
    },
    "papermill": {
     "duration": 0.054021,
     "end_time": "2022-04-17T20:36:55.116627",
     "exception": false,
     "start_time": "2022-04-17T20:36:55.062606",
     "status": "completed"
    },
    "tags": []
   },
   "outputs": [
    {
     "data": {
      "text/plain": [
       "ID                      0\n",
       "OFFICE                  0\n",
       "TARIFF.CODE             0\n",
       "ORIGIN.CODE             0\n",
       "CIF_USD_EQUIVALENT      0\n",
       "QUANTITY                0\n",
       "GROSS.WEIGHT            0\n",
       "TOTAL.TAXES.USD         0\n",
       "date                  214\n",
       "dtype: int64"
      ]
     },
     "execution_count": 13,
     "metadata": {},
     "output_type": "execute_result"
    }
   ],
   "source": [
    "test.isna().sum()"
   ]
  },
  {
   "cell_type": "markdown",
   "id": "c23f59b2",
   "metadata": {
    "papermill": {
     "duration": 0.038791,
     "end_time": "2022-04-17T20:36:55.194615",
     "exception": false,
     "start_time": "2022-04-17T20:36:55.155824",
     "status": "completed"
    },
    "tags": []
   },
   "source": [
    "### To have quick EDA we will use a powerful library that provides insights on the dataset"
   ]
  },
  {
   "cell_type": "code",
   "execution_count": 14,
   "id": "c0fadd69",
   "metadata": {
    "execution": {
     "iopub.execute_input": "2022-04-17T20:36:55.276640Z",
     "iopub.status.busy": "2022-04-17T20:36:55.275998Z",
     "iopub.status.idle": "2022-04-17T20:36:55.278663Z",
     "shell.execute_reply": "2022-04-17T20:36:55.279146Z",
     "shell.execute_reply.started": "2022-04-17T20:30:20.640384Z"
    },
    "papermill": {
     "duration": 0.045536,
     "end_time": "2022-04-17T20:36:55.279329",
     "exception": false,
     "start_time": "2022-04-17T20:36:55.233793",
     "status": "completed"
    },
    "tags": []
   },
   "outputs": [],
   "source": [
    "#report = create_report(train, title='My Report')"
   ]
  },
  {
   "cell_type": "code",
   "execution_count": 15,
   "id": "398f916e",
   "metadata": {
    "execution": {
     "iopub.execute_input": "2022-04-17T20:36:55.361519Z",
     "iopub.status.busy": "2022-04-17T20:36:55.360861Z",
     "iopub.status.idle": "2022-04-17T20:36:55.363800Z",
     "shell.execute_reply": "2022-04-17T20:36:55.364284Z",
     "shell.execute_reply.started": "2022-04-17T20:30:20.646259Z"
    },
    "papermill": {
     "duration": 0.045453,
     "end_time": "2022-04-17T20:36:55.364449",
     "exception": false,
     "start_time": "2022-04-17T20:36:55.318996",
     "status": "completed"
    },
    "tags": []
   },
   "outputs": [],
   "source": [
    "#report"
   ]
  },
  {
   "cell_type": "markdown",
   "id": "a7a90f5a",
   "metadata": {
    "papermill": {
     "duration": 0.038926,
     "end_time": "2022-04-17T20:36:55.442781",
     "exception": false,
     "start_time": "2022-04-17T20:36:55.403855",
     "status": "completed"
    },
    "tags": []
   },
   "source": [
    "### The target variable is very unbalanced so you need to figure out how to fight overfitting in this problem "
   ]
  },
  {
   "cell_type": "markdown",
   "id": "3f665389",
   "metadata": {
    "papermill": {
     "duration": 0.039256,
     "end_time": "2022-04-17T20:36:55.521699",
     "exception": false,
     "start_time": "2022-04-17T20:36:55.482443",
     "status": "completed"
    },
    "tags": []
   },
   "source": [
    "### What about Categorical variable ? How you are going to deal with them ? One Hot encoding ? Label Encoding ? or drop some ? "
   ]
  },
  {
   "cell_type": "markdown",
   "id": "732881c0",
   "metadata": {
    "papermill": {
     "duration": 0.039088,
     "end_time": "2022-04-17T20:36:55.600484",
     "exception": false,
     "start_time": "2022-04-17T20:36:55.561396",
     "status": "completed"
    },
    "tags": []
   },
   "source": [
    "#### For now we will use only the numerical features"
   ]
  },
  {
   "cell_type": "code",
   "execution_count": 16,
   "id": "cb732e80",
   "metadata": {
    "execution": {
     "iopub.execute_input": "2022-04-17T20:36:55.684318Z",
     "iopub.status.busy": "2022-04-17T20:36:55.683669Z",
     "iopub.status.idle": "2022-04-17T20:36:55.689942Z",
     "shell.execute_reply": "2022-04-17T20:36:55.689302Z",
     "shell.execute_reply.started": "2022-04-17T20:30:20.659617Z"
    },
    "papermill": {
     "duration": 0.049221,
     "end_time": "2022-04-17T20:36:55.690083",
     "exception": false,
     "start_time": "2022-04-17T20:36:55.640862",
     "status": "completed"
    },
    "tags": []
   },
   "outputs": [
    {
     "data": {
      "text/plain": [
       "Index(['ID', 'OFFICE', 'TARIFF.CODE', 'ORIGIN.CODE', 'CIF_USD_EQUIVALENT',\n",
       "       'QUANTITY', 'GROSS.WEIGHT', 'TOTAL.TAXES.USD', 'illicit', 'date'],\n",
       "      dtype='object')"
      ]
     },
     "execution_count": 16,
     "metadata": {},
     "output_type": "execute_result"
    }
   ],
   "source": [
    "train.columns"
   ]
  },
  {
   "cell_type": "code",
   "execution_count": 17,
   "id": "6c375e96",
   "metadata": {
    "execution": {
     "iopub.execute_input": "2022-04-17T20:36:55.777522Z",
     "iopub.status.busy": "2022-04-17T20:36:55.776533Z",
     "iopub.status.idle": "2022-04-17T20:36:55.778763Z",
     "shell.execute_reply": "2022-04-17T20:36:55.779351Z",
     "shell.execute_reply.started": "2022-04-17T20:30:20.673939Z"
    },
    "papermill": {
     "duration": 0.049161,
     "end_time": "2022-04-17T20:36:55.779523",
     "exception": false,
     "start_time": "2022-04-17T20:36:55.730362",
     "status": "completed"
    },
    "tags": []
   },
   "outputs": [],
   "source": [
    "main_cols=['CIF_USD_EQUIVALENT', 'QUANTITY', 'GROSS.WEIGHT', 'TOTAL.TAXES.USD', 'OFFICE']#, 'ORIGIN.CODE'] #test"
   ]
  },
  {
   "cell_type": "code",
   "execution_count": 18,
   "id": "862bff6b",
   "metadata": {
    "execution": {
     "iopub.execute_input": "2022-04-17T20:36:55.862601Z",
     "iopub.status.busy": "2022-04-17T20:36:55.861905Z",
     "iopub.status.idle": "2022-04-17T20:36:55.871362Z",
     "shell.execute_reply": "2022-04-17T20:36:55.871895Z",
     "shell.execute_reply.started": "2022-04-17T20:30:20.684504Z"
    },
    "papermill": {
     "duration": 0.052904,
     "end_time": "2022-04-17T20:36:55.872067",
     "exception": false,
     "start_time": "2022-04-17T20:36:55.819163",
     "status": "completed"
    },
    "tags": []
   },
   "outputs": [],
   "source": [
    "X=train[main_cols]\n",
    "y=train.illicit"
   ]
  },
  {
   "cell_type": "code",
   "execution_count": 19,
   "id": "b186d4b4",
   "metadata": {
    "execution": {
     "iopub.execute_input": "2022-04-17T20:36:55.957407Z",
     "iopub.status.busy": "2022-04-17T20:36:55.956706Z",
     "iopub.status.idle": "2022-04-17T20:37:06.488228Z",
     "shell.execute_reply": "2022-04-17T20:37:06.489074Z",
     "shell.execute_reply.started": "2022-04-17T20:30:20.705795Z"
    },
    "papermill": {
     "duration": 10.575383,
     "end_time": "2022-04-17T20:37:06.489344",
     "exception": false,
     "start_time": "2022-04-17T20:36:55.913961",
     "status": "completed"
    },
    "tags": []
   },
   "outputs": [
    {
     "data": {
      "text/plain": [
       "'\\n%pip install imbalanced-learn\\n# transform the dataset\\nfrom imblearn.over_sampling import SMOTE\\noversample = SMOTE()\\nX, y = oversample.fit_resample(X, y)\\n# summarize the new class distribution\\nfrom collections import Counter\\ncounter = Counter(y)\\nprint(counter)\\n'"
      ]
     },
     "execution_count": 19,
     "metadata": {},
     "output_type": "execute_result"
    }
   ],
   "source": [
    "'''\n",
    "%pip install imbalanced-learn\n",
    "# transform the dataset\n",
    "from imblearn.over_sampling import SMOTE\n",
    "oversample = SMOTE()\n",
    "X, y = oversample.fit_resample(X, y)\n",
    "# summarize the new class distribution\n",
    "from collections import Counter\n",
    "counter = Counter(y)\n",
    "print(counter)\n",
    "'''"
   ]
  },
  {
   "cell_type": "code",
   "execution_count": 20,
   "id": "722d43c8",
   "metadata": {
    "execution": {
     "iopub.execute_input": "2022-04-17T20:37:06.578395Z",
     "iopub.status.busy": "2022-04-17T20:37:06.577442Z",
     "iopub.status.idle": "2022-04-17T20:37:06.735014Z",
     "shell.execute_reply": "2022-04-17T20:37:06.734389Z",
     "shell.execute_reply.started": "2022-04-17T20:30:31.472838Z"
    },
    "papermill": {
     "duration": 0.202459,
     "end_time": "2022-04-17T20:37:06.735157",
     "exception": false,
     "start_time": "2022-04-17T20:37:06.532698",
     "status": "completed"
    },
    "tags": []
   },
   "outputs": [],
   "source": [
    "X_train,X_test,y_train,y_test = train_test_split(X,y,test_size=0.33,random_state=42, stratify=y)"
   ]
  },
  {
   "cell_type": "code",
   "execution_count": 21,
   "id": "c31d7caf",
   "metadata": {
    "execution": {
     "iopub.execute_input": "2022-04-17T20:37:06.825405Z",
     "iopub.status.busy": "2022-04-17T20:37:06.824333Z",
     "iopub.status.idle": "2022-04-17T20:37:06.826426Z",
     "shell.execute_reply": "2022-04-17T20:37:06.827026Z",
     "shell.execute_reply.started": "2022-04-17T20:30:31.630821Z"
    },
    "papermill": {
     "duration": 0.050135,
     "end_time": "2022-04-17T20:37:06.827192",
     "exception": false,
     "start_time": "2022-04-17T20:37:06.777057",
     "status": "completed"
    },
    "tags": []
   },
   "outputs": [],
   "source": [
    "# Support Vector Machines\n"
   ]
  },
  {
   "cell_type": "code",
   "execution_count": 22,
   "id": "d4ce8bed",
   "metadata": {
    "execution": {
     "iopub.execute_input": "2022-04-17T20:37:06.921998Z",
     "iopub.status.busy": "2022-04-17T20:37:06.921019Z",
     "iopub.status.idle": "2022-04-17T20:37:06.924231Z",
     "shell.execute_reply": "2022-04-17T20:37:06.923708Z",
     "shell.execute_reply.started": "2022-04-17T20:30:31.636655Z"
    },
    "papermill": {
     "duration": 0.054893,
     "end_time": "2022-04-17T20:37:06.924402",
     "exception": false,
     "start_time": "2022-04-17T20:37:06.869509",
     "status": "completed"
    },
    "tags": []
   },
   "outputs": [],
   "source": [
    "Ridge= RidgeClassifierCV()\n",
    "grad_boost = GradientBoostingClassifier(n_estimators = 100)\n",
    "random_forest = RandomForestClassifier(n_estimators=100)\n",
    "decision_tree = DecisionTreeClassifier()\n",
    "perceptron = Perceptron()\n",
    "gaussian = GaussianNB()\n",
    "svc = SVC()\n",
    "lr = LogisticRegression()\n",
    "knn = KNN()\n",
    "dt = DecisionTreeClassifier()\n",
    "\n",
    "classifiers = [\n",
    "    ('Gradient Boosting', grad_boost),\n",
    "    ('Random Forest', random_forest),\n",
    "               ('Decision Tree', decision_tree),\n",
    "               ('K Nearest Neighbours', knn),\n",
    "               ('Classification Tree', dt)]\n",
    "\n",
    "#clf.fit(X_train,y_train)"
   ]
  },
  {
   "cell_type": "code",
   "execution_count": 23,
   "id": "8451e94c",
   "metadata": {
    "execution": {
     "iopub.execute_input": "2022-04-17T20:37:07.017896Z",
     "iopub.status.busy": "2022-04-17T20:37:07.016432Z",
     "iopub.status.idle": "2022-04-17T20:38:51.464176Z",
     "shell.execute_reply": "2022-04-17T20:38:51.463327Z",
     "shell.execute_reply.started": "2022-04-17T20:30:31.649985Z"
    },
    "papermill": {
     "duration": 104.497447,
     "end_time": "2022-04-17T20:38:51.464404",
     "exception": false,
     "start_time": "2022-04-17T20:37:06.966957",
     "status": "completed"
    },
    "tags": []
   },
   "outputs": [
    {
     "name": "stdout",
     "output_type": "stream",
     "text": [
      "Gradient Boosting : 0.930\n",
      "Random Forest : 0.929\n",
      "Decision Tree : 0.882\n",
      "K Nearest Neighbours : 0.923\n",
      "Classification Tree : 0.882\n"
     ]
    }
   ],
   "source": [
    "for clf_name, clf in classifiers:\n",
    "    clf.fit(X_train, y_train)\n",
    "    y_pred = clf.predict(X_test)\n",
    "    \n",
    "    print('{:s} : {:.3f}'.format(clf_name, accuracy_score(y_test, y_pred)))"
   ]
  },
  {
   "cell_type": "code",
   "execution_count": 24,
   "id": "764a8c3c",
   "metadata": {
    "execution": {
     "iopub.execute_input": "2022-04-17T20:38:51.555216Z",
     "iopub.status.busy": "2022-04-17T20:38:51.554289Z",
     "iopub.status.idle": "2022-04-17T20:40:38.626940Z",
     "shell.execute_reply": "2022-04-17T20:40:38.627526Z",
     "shell.execute_reply.started": "2022-04-17T20:32:21.365037Z"
    },
    "papermill": {
     "duration": 107.11915,
     "end_time": "2022-04-17T20:40:38.627725",
     "exception": false,
     "start_time": "2022-04-17T20:38:51.508575",
     "status": "completed"
    },
    "tags": []
   },
   "outputs": [
    {
     "name": "stdout",
     "output_type": "stream",
     "text": [
      "0.9283690813435856\n"
     ]
    }
   ],
   "source": [
    "vc = VotingClassifier(estimators=classifiers)\n",
    "\n",
    "vc.fit(X_train, y_train)\n",
    "y_pred = vc.predict(X_test)\n",
    "\n",
    "print(accuracy_score(y_test, y_pred))"
   ]
  },
  {
   "cell_type": "code",
   "execution_count": 25,
   "id": "38eb1114",
   "metadata": {
    "execution": {
     "iopub.execute_input": "2022-04-17T20:40:38.719239Z",
     "iopub.status.busy": "2022-04-17T20:40:38.718525Z",
     "iopub.status.idle": "2022-04-17T20:40:38.724372Z",
     "shell.execute_reply": "2022-04-17T20:40:38.725037Z",
     "shell.execute_reply.started": "2022-04-17T20:34:11.848940Z"
    },
    "papermill": {
     "duration": 0.053045,
     "end_time": "2022-04-17T20:40:38.725226",
     "exception": false,
     "start_time": "2022-04-17T20:40:38.672181",
     "status": "completed"
    },
    "tags": []
   },
   "outputs": [
    {
     "data": {
      "text/plain": [
       "'\\ny_pred=clf.predict(X_test)\\n#print(roc_auc_score(y_pred,y_test))\\nprint(clf.score(X_train, y_train))\\nprint(clf.score(X_test, y_test))\\n'"
      ]
     },
     "execution_count": 25,
     "metadata": {},
     "output_type": "execute_result"
    }
   ],
   "source": [
    "'''\n",
    "y_pred=clf.predict(X_test)\n",
    "#print(roc_auc_score(y_pred,y_test))\n",
    "print(clf.score(X_train, y_train))\n",
    "print(clf.score(X_test, y_test))\n",
    "'''"
   ]
  },
  {
   "cell_type": "code",
   "execution_count": 26,
   "id": "c7fb33c3",
   "metadata": {
    "execution": {
     "iopub.execute_input": "2022-04-17T20:40:38.842963Z",
     "iopub.status.busy": "2022-04-17T20:40:38.842210Z",
     "iopub.status.idle": "2022-04-17T20:40:41.513624Z",
     "shell.execute_reply": "2022-04-17T20:40:41.513022Z",
     "shell.execute_reply.started": "2022-04-17T20:34:11.857354Z"
    },
    "papermill": {
     "duration": 2.731706,
     "end_time": "2022-04-17T20:40:41.513783",
     "exception": false,
     "start_time": "2022-04-17T20:40:38.782077",
     "status": "completed"
    },
    "tags": []
   },
   "outputs": [],
   "source": [
    "sample['illicit']=vc.predict(test[main_cols])"
   ]
  },
  {
   "cell_type": "code",
   "execution_count": 27,
   "id": "edf80f8b",
   "metadata": {
    "execution": {
     "iopub.execute_input": "2022-04-17T20:40:41.610784Z",
     "iopub.status.busy": "2022-04-17T20:40:41.610107Z",
     "iopub.status.idle": "2022-04-17T20:40:41.613654Z",
     "shell.execute_reply": "2022-04-17T20:40:41.614099Z",
     "shell.execute_reply.started": "2022-04-17T20:34:14.497157Z"
    },
    "papermill": {
     "duration": 0.055903,
     "end_time": "2022-04-17T20:40:41.614292",
     "exception": false,
     "start_time": "2022-04-17T20:40:41.558389",
     "status": "completed"
    },
    "tags": []
   },
   "outputs": [
    {
     "data": {
      "text/plain": [
       "0    39984\n",
       "1       16\n",
       "Name: illicit, dtype: int64"
      ]
     },
     "execution_count": 27,
     "metadata": {},
     "output_type": "execute_result"
    }
   ],
   "source": [
    "sample.illicit.value_counts()"
   ]
  },
  {
   "cell_type": "code",
   "execution_count": 28,
   "id": "c24f3674",
   "metadata": {
    "execution": {
     "iopub.execute_input": "2022-04-17T20:40:41.712471Z",
     "iopub.status.busy": "2022-04-17T20:40:41.711847Z",
     "iopub.status.idle": "2022-04-17T20:40:41.716817Z",
     "shell.execute_reply": "2022-04-17T20:40:41.716324Z",
     "shell.execute_reply.started": "2022-04-17T20:34:14.508039Z"
    },
    "papermill": {
     "duration": 0.057464,
     "end_time": "2022-04-17T20:40:41.716951",
     "exception": false,
     "start_time": "2022-04-17T20:40:41.659487",
     "status": "completed"
    },
    "tags": []
   },
   "outputs": [
    {
     "data": {
      "text/html": [
       "<div>\n",
       "<style scoped>\n",
       "    .dataframe tbody tr th:only-of-type {\n",
       "        vertical-align: middle;\n",
       "    }\n",
       "\n",
       "    .dataframe tbody tr th {\n",
       "        vertical-align: top;\n",
       "    }\n",
       "\n",
       "    .dataframe thead th {\n",
       "        text-align: right;\n",
       "    }\n",
       "</style>\n",
       "<table border=\"1\" class=\"dataframe\">\n",
       "  <thead>\n",
       "    <tr style=\"text-align: right;\">\n",
       "      <th></th>\n",
       "      <th>ID</th>\n",
       "      <th>illicit</th>\n",
       "    </tr>\n",
       "  </thead>\n",
       "  <tbody>\n",
       "    <tr>\n",
       "      <th>0</th>\n",
       "      <td>160000</td>\n",
       "      <td>0</td>\n",
       "    </tr>\n",
       "    <tr>\n",
       "      <th>1</th>\n",
       "      <td>160001</td>\n",
       "      <td>0</td>\n",
       "    </tr>\n",
       "    <tr>\n",
       "      <th>2</th>\n",
       "      <td>160002</td>\n",
       "      <td>0</td>\n",
       "    </tr>\n",
       "    <tr>\n",
       "      <th>3</th>\n",
       "      <td>160003</td>\n",
       "      <td>0</td>\n",
       "    </tr>\n",
       "    <tr>\n",
       "      <th>4</th>\n",
       "      <td>160004</td>\n",
       "      <td>0</td>\n",
       "    </tr>\n",
       "  </tbody>\n",
       "</table>\n",
       "</div>"
      ],
      "text/plain": [
       "       ID  illicit\n",
       "0  160000        0\n",
       "1  160001        0\n",
       "2  160002        0\n",
       "3  160003        0\n",
       "4  160004        0"
      ]
     },
     "execution_count": 28,
     "metadata": {},
     "output_type": "execute_result"
    }
   ],
   "source": [
    "sample.head()"
   ]
  },
  {
   "cell_type": "code",
   "execution_count": 29,
   "id": "328bcdcf",
   "metadata": {
    "execution": {
     "iopub.execute_input": "2022-04-17T20:40:41.827493Z",
     "iopub.status.busy": "2022-04-17T20:40:41.826387Z",
     "iopub.status.idle": "2022-04-17T20:40:41.902568Z",
     "shell.execute_reply": "2022-04-17T20:40:41.901914Z",
     "shell.execute_reply.started": "2022-04-17T20:34:14.526213Z"
    },
    "papermill": {
     "duration": 0.13654,
     "end_time": "2022-04-17T20:40:41.902710",
     "exception": false,
     "start_time": "2022-04-17T20:40:41.766170",
     "status": "completed"
    },
    "tags": []
   },
   "outputs": [],
   "source": [
    "sample.to_csv(\"Baseline.csv\",index=False)"
   ]
  },
  {
   "cell_type": "code",
   "execution_count": null,
   "id": "46763d4c",
   "metadata": {
    "papermill": {
     "duration": 0.045361,
     "end_time": "2022-04-17T20:40:41.993729",
     "exception": false,
     "start_time": "2022-04-17T20:40:41.948368",
     "status": "completed"
    },
    "tags": []
   },
   "outputs": [],
   "source": []
  }
 ],
 "metadata": {
  "kernelspec": {
   "display_name": "Python 3",
   "language": "python",
   "name": "python3"
  },
  "language_info": {
   "codemirror_mode": {
    "name": "ipython",
    "version": 3
   },
   "file_extension": ".py",
   "mimetype": "text/x-python",
   "name": "python",
   "nbconvert_exporter": "python",
   "pygments_lexer": "ipython3",
   "version": "3.8.8"
  },
  "papermill": {
   "default_parameters": {},
   "duration": 241.59691,
   "end_time": "2022-04-17T20:40:42.852228",
   "environment_variables": {},
   "exception": null,
   "input_path": "__notebook__.ipynb",
   "output_path": "__notebook__.ipynb",
   "parameters": {},
   "start_time": "2022-04-17T20:36:41.255318",
   "version": "2.3.3"
  }
 },
 "nbformat": 4,
 "nbformat_minor": 5
}
