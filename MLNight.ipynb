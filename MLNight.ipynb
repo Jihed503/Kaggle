{
 "cells": [
  {
   "cell_type": "markdown",
   "id": "4e9b79bd",
   "metadata": {},
   "source": [
    "<h1><center><strong> ML Night </strong></center></h1>\n",
    "<h2><center>A competition hosted by the GDSC community</center></h2>"
   ]
  },
  {
   "cell_type": "markdown",
   "id": "0066d153",
   "metadata": {},
   "source": [
    "https://www.kaggle.com/competitions/ml-night-gdsc-fst"
   ]
  },
  {
   "cell_type": "markdown",
   "id": "e1834079",
   "metadata": {},
   "source": [
    "## 1. Importing libraries"
   ]
  },
  {
   "cell_type": "code",
   "execution_count": 1,
   "id": "57a008bb",
   "metadata": {},
   "outputs": [],
   "source": [
    "import numpy as np\n",
    "import pandas as pd\n",
    "import seaborn as sns\n",
    "import matplotlib.pyplot as plt\n",
    "from sklearn.model_selection import train_test_split\n",
    "from sklearn.linear_model import LinearRegression \n",
    "from sklearn.metrics import mean_squared_error as mse \n",
    "from sklearn import preprocessing\n",
    "from sklearn.preprocessing import MinMaxScaler\n",
    "from sklearn.model_selection import cross_val_score\n",
    "import sklearn\n",
    "import math\n",
    "\n",
    "from sklearn.ensemble import RandomForestRegressor\n",
    "from sklearn.model_selection import GridSearchCV\n",
    "from xgboost import XGBRegressor\n",
    "import xgboost as xgb\n",
    "from sklearn.model_selection import KFold\n",
    "from sklearn.model_selection import RepeatedKFold\n",
    "from scipy import stats\n",
    "from xgboost import plot_importance\n",
    "from datetime import datetime "
   ]
  },
  {
   "cell_type": "markdown",
   "id": "a564c413",
   "metadata": {},
   "source": [
    "## 2. Importing data"
   ]
  },
  {
   "cell_type": "code",
   "execution_count": 2,
   "id": "036ede1b",
   "metadata": {},
   "outputs": [],
   "source": [
    "train = pd.read_csv(\"train.csv\", index_col='campaign_id')\n",
    "test = pd.read_csv(\"test.csv\", index_col='campaign_id')\n",
    "submission = pd.read_csv(\"Submission Sample.csv\")"
   ]
  },
  {
   "cell_type": "code",
   "execution_count": 3,
   "id": "2a8641a6",
   "metadata": {},
   "outputs": [
    {
     "data": {
      "text/html": [
       "<div>\n",
       "<style scoped>\n",
       "    .dataframe tbody tr th:only-of-type {\n",
       "        vertical-align: middle;\n",
       "    }\n",
       "\n",
       "    .dataframe tbody tr th {\n",
       "        vertical-align: top;\n",
       "    }\n",
       "\n",
       "    .dataframe thead th {\n",
       "        text-align: right;\n",
       "    }\n",
       "</style>\n",
       "<table border=\"1\" class=\"dataframe\">\n",
       "  <thead>\n",
       "    <tr style=\"text-align: right;\">\n",
       "      <th></th>\n",
       "      <th>chain_id</th>\n",
       "      <th>start_date</th>\n",
       "      <th>end_date</th>\n",
       "      <th>format</th>\n",
       "      <th>device</th>\n",
       "      <th>height</th>\n",
       "      <th>width</th>\n",
       "      <th>iremoteid</th>\n",
       "      <th>days</th>\n",
       "      <th>start_day</th>\n",
       "      <th>end_day</th>\n",
       "      <th>shop</th>\n",
       "      <th>budget</th>\n",
       "    </tr>\n",
       "    <tr>\n",
       "      <th>campaign_id</th>\n",
       "      <th></th>\n",
       "      <th></th>\n",
       "      <th></th>\n",
       "      <th></th>\n",
       "      <th></th>\n",
       "      <th></th>\n",
       "      <th></th>\n",
       "      <th></th>\n",
       "      <th></th>\n",
       "      <th></th>\n",
       "      <th></th>\n",
       "      <th></th>\n",
       "      <th></th>\n",
       "    </tr>\n",
       "  </thead>\n",
       "  <tbody>\n",
       "    <tr>\n",
       "      <th>8963</th>\n",
       "      <td>12</td>\n",
       "      <td>2019-07-21</td>\n",
       "      <td>2019-07-24</td>\n",
       "      <td>banner</td>\n",
       "      <td>DESKTOP</td>\n",
       "      <td>200.0</td>\n",
       "      <td>995.0</td>\n",
       "      <td>['31834']</td>\n",
       "      <td>5.0</td>\n",
       "      <td>7.0</td>\n",
       "      <td>3.0</td>\n",
       "      <td>0.0</td>\n",
       "      <td>3579.344177</td>\n",
       "    </tr>\n",
       "    <tr>\n",
       "      <th>11875</th>\n",
       "      <td>11</td>\n",
       "      <td>2020-09-01</td>\n",
       "      <td>2020-09-05</td>\n",
       "      <td>butterfly</td>\n",
       "      <td>DESKTOP</td>\n",
       "      <td>486.0</td>\n",
       "      <td>278.0</td>\n",
       "      <td>['C75204']</td>\n",
       "      <td>6.0</td>\n",
       "      <td>2.0</td>\n",
       "      <td>6.0</td>\n",
       "      <td>0.0</td>\n",
       "      <td>5251.781250</td>\n",
       "    </tr>\n",
       "    <tr>\n",
       "      <th>25899</th>\n",
       "      <td>11</td>\n",
       "      <td>2020-10-29</td>\n",
       "      <td>2020-11-24</td>\n",
       "      <td>butterfly</td>\n",
       "      <td>DESKTOP</td>\n",
       "      <td>488.0</td>\n",
       "      <td>265.0</td>\n",
       "      <td>['CB9645']</td>\n",
       "      <td>28.0</td>\n",
       "      <td>4.0</td>\n",
       "      <td>2.0</td>\n",
       "      <td>0.0</td>\n",
       "      <td>9814.411865</td>\n",
       "    </tr>\n",
       "    <tr>\n",
       "      <th>25458</th>\n",
       "      <td>10</td>\n",
       "      <td>2020-12-09</td>\n",
       "      <td>2020-12-15</td>\n",
       "      <td>banner</td>\n",
       "      <td>DESKTOP</td>\n",
       "      <td>150.0</td>\n",
       "      <td>1200.0</td>\n",
       "      <td>['C111392']</td>\n",
       "      <td>8.0</td>\n",
       "      <td>3.0</td>\n",
       "      <td>2.0</td>\n",
       "      <td>0.0</td>\n",
       "      <td>11428.571429</td>\n",
       "    </tr>\n",
       "    <tr>\n",
       "      <th>35293</th>\n",
       "      <td>12</td>\n",
       "      <td>2019-11-14</td>\n",
       "      <td>2019-12-26</td>\n",
       "      <td>banner</td>\n",
       "      <td>DESKTOP</td>\n",
       "      <td>200.0</td>\n",
       "      <td>995.0</td>\n",
       "      <td>['34341']</td>\n",
       "      <td>44.0</td>\n",
       "      <td>4.0</td>\n",
       "      <td>4.0</td>\n",
       "      <td>0.0</td>\n",
       "      <td>9328.322937</td>\n",
       "    </tr>\n",
       "    <tr>\n",
       "      <th>...</th>\n",
       "      <td>...</td>\n",
       "      <td>...</td>\n",
       "      <td>...</td>\n",
       "      <td>...</td>\n",
       "      <td>...</td>\n",
       "      <td>...</td>\n",
       "      <td>...</td>\n",
       "      <td>...</td>\n",
       "      <td>...</td>\n",
       "      <td>...</td>\n",
       "      <td>...</td>\n",
       "      <td>...</td>\n",
       "      <td>...</td>\n",
       "    </tr>\n",
       "    <tr>\n",
       "      <th>5536</th>\n",
       "      <td>11</td>\n",
       "      <td>2021-09-27</td>\n",
       "      <td>2021-10-01</td>\n",
       "      <td>butterfly</td>\n",
       "      <td>DESKTOP</td>\n",
       "      <td>486.0</td>\n",
       "      <td>531.0</td>\n",
       "      <td>['C179459']</td>\n",
       "      <td>6.0</td>\n",
       "      <td>1.0</td>\n",
       "      <td>5.0</td>\n",
       "      <td>0.0</td>\n",
       "      <td>4036.691162</td>\n",
       "    </tr>\n",
       "    <tr>\n",
       "      <th>22449</th>\n",
       "      <td>7</td>\n",
       "      <td>2020-11-01</td>\n",
       "      <td>2020-11-04</td>\n",
       "      <td>butterfly</td>\n",
       "      <td>DESKTOP</td>\n",
       "      <td>394.0</td>\n",
       "      <td>576.0</td>\n",
       "      <td>['103287']</td>\n",
       "      <td>5.0</td>\n",
       "      <td>7.0</td>\n",
       "      <td>3.0</td>\n",
       "      <td>0.0</td>\n",
       "      <td>2332.705994</td>\n",
       "    </tr>\n",
       "    <tr>\n",
       "      <th>28382</th>\n",
       "      <td>11</td>\n",
       "      <td>2021-01-13</td>\n",
       "      <td>2021-04-01</td>\n",
       "      <td>butterfly</td>\n",
       "      <td>DESKTOP</td>\n",
       "      <td>486.0</td>\n",
       "      <td>273.0</td>\n",
       "      <td>['C119433']</td>\n",
       "      <td>80.0</td>\n",
       "      <td>3.0</td>\n",
       "      <td>4.0</td>\n",
       "      <td>0.0</td>\n",
       "      <td>10850.689697</td>\n",
       "    </tr>\n",
       "    <tr>\n",
       "      <th>1327</th>\n",
       "      <td>10</td>\n",
       "      <td>2021-06-17</td>\n",
       "      <td>2021-08-17</td>\n",
       "      <td>butterfly</td>\n",
       "      <td>DESKTOP</td>\n",
       "      <td>381.0</td>\n",
       "      <td>555.0</td>\n",
       "      <td>['C153841']</td>\n",
       "      <td>63.0</td>\n",
       "      <td>4.0</td>\n",
       "      <td>2.0</td>\n",
       "      <td>0.0</td>\n",
       "      <td>15076.020355</td>\n",
       "    </tr>\n",
       "    <tr>\n",
       "      <th>8636</th>\n",
       "      <td>12</td>\n",
       "      <td>2019-05-28</td>\n",
       "      <td>2019-07-31</td>\n",
       "      <td>stoprayon</td>\n",
       "      <td>DESKTOP</td>\n",
       "      <td>121.0</td>\n",
       "      <td>995.0</td>\n",
       "      <td>['29442']</td>\n",
       "      <td>66.0</td>\n",
       "      <td>2.0</td>\n",
       "      <td>3.0</td>\n",
       "      <td>0.0</td>\n",
       "      <td>16656.156830</td>\n",
       "    </tr>\n",
       "  </tbody>\n",
       "</table>\n",
       "<p>3988 rows × 13 columns</p>\n",
       "</div>"
      ],
      "text/plain": [
       "             chain_id  start_date    end_date     format   device  height  \\\n",
       "campaign_id                                                                 \n",
       "8963               12  2019-07-21  2019-07-24     banner  DESKTOP   200.0   \n",
       "11875              11  2020-09-01  2020-09-05  butterfly  DESKTOP   486.0   \n",
       "25899              11  2020-10-29  2020-11-24  butterfly  DESKTOP   488.0   \n",
       "25458              10  2020-12-09  2020-12-15     banner  DESKTOP   150.0   \n",
       "35293              12  2019-11-14  2019-12-26     banner  DESKTOP   200.0   \n",
       "...               ...         ...         ...        ...      ...     ...   \n",
       "5536               11  2021-09-27  2021-10-01  butterfly  DESKTOP   486.0   \n",
       "22449               7  2020-11-01  2020-11-04  butterfly  DESKTOP   394.0   \n",
       "28382              11  2021-01-13  2021-04-01  butterfly  DESKTOP   486.0   \n",
       "1327               10  2021-06-17  2021-08-17  butterfly  DESKTOP   381.0   \n",
       "8636               12  2019-05-28  2019-07-31  stoprayon  DESKTOP   121.0   \n",
       "\n",
       "              width    iremoteid  days  start_day  end_day  shop        budget  \n",
       "campaign_id                                                                     \n",
       "8963          995.0    ['31834']   5.0        7.0      3.0   0.0   3579.344177  \n",
       "11875         278.0   ['C75204']   6.0        2.0      6.0   0.0   5251.781250  \n",
       "25899         265.0   ['CB9645']  28.0        4.0      2.0   0.0   9814.411865  \n",
       "25458        1200.0  ['C111392']   8.0        3.0      2.0   0.0  11428.571429  \n",
       "35293         995.0    ['34341']  44.0        4.0      4.0   0.0   9328.322937  \n",
       "...             ...          ...   ...        ...      ...   ...           ...  \n",
       "5536          531.0  ['C179459']   6.0        1.0      5.0   0.0   4036.691162  \n",
       "22449         576.0   ['103287']   5.0        7.0      3.0   0.0   2332.705994  \n",
       "28382         273.0  ['C119433']  80.0        3.0      4.0   0.0  10850.689697  \n",
       "1327          555.0  ['C153841']  63.0        4.0      2.0   0.0  15076.020355  \n",
       "8636          995.0    ['29442']  66.0        2.0      3.0   0.0  16656.156830  \n",
       "\n",
       "[3988 rows x 13 columns]"
      ]
     },
     "execution_count": 3,
     "metadata": {},
     "output_type": "execute_result"
    }
   ],
   "source": [
    "train"
   ]
  },
  {
   "cell_type": "code",
   "execution_count": 4,
   "id": "c0ea0c9c",
   "metadata": {},
   "outputs": [
    {
     "data": {
      "text/html": [
       "<div>\n",
       "<style scoped>\n",
       "    .dataframe tbody tr th:only-of-type {\n",
       "        vertical-align: middle;\n",
       "    }\n",
       "\n",
       "    .dataframe tbody tr th {\n",
       "        vertical-align: top;\n",
       "    }\n",
       "\n",
       "    .dataframe thead th {\n",
       "        text-align: right;\n",
       "    }\n",
       "</style>\n",
       "<table border=\"1\" class=\"dataframe\">\n",
       "  <thead>\n",
       "    <tr style=\"text-align: right;\">\n",
       "      <th></th>\n",
       "      <th>chain_id</th>\n",
       "      <th>start_date</th>\n",
       "      <th>end_date</th>\n",
       "      <th>format</th>\n",
       "      <th>device</th>\n",
       "      <th>height</th>\n",
       "      <th>width</th>\n",
       "      <th>iremoteid</th>\n",
       "      <th>days</th>\n",
       "      <th>start_day</th>\n",
       "      <th>end_day</th>\n",
       "      <th>shop</th>\n",
       "    </tr>\n",
       "    <tr>\n",
       "      <th>campaign_id</th>\n",
       "      <th></th>\n",
       "      <th></th>\n",
       "      <th></th>\n",
       "      <th></th>\n",
       "      <th></th>\n",
       "      <th></th>\n",
       "      <th></th>\n",
       "      <th></th>\n",
       "      <th></th>\n",
       "      <th></th>\n",
       "      <th></th>\n",
       "      <th></th>\n",
       "    </tr>\n",
       "  </thead>\n",
       "  <tbody>\n",
       "    <tr>\n",
       "      <th>126</th>\n",
       "      <td>10</td>\n",
       "      <td>2020-08-28</td>\n",
       "      <td>2020-09-01</td>\n",
       "      <td>butterfly</td>\n",
       "      <td>DESKTOP</td>\n",
       "      <td>420.0</td>\n",
       "      <td>574.0</td>\n",
       "      <td>['C83953', 'C83957']</td>\n",
       "      <td>6.0</td>\n",
       "      <td>5.0</td>\n",
       "      <td>2.0</td>\n",
       "      <td>0.0</td>\n",
       "    </tr>\n",
       "    <tr>\n",
       "      <th>29125</th>\n",
       "      <td>10</td>\n",
       "      <td>2019-07-15</td>\n",
       "      <td>2019-08-10</td>\n",
       "      <td>butterfly</td>\n",
       "      <td>DESKTOP</td>\n",
       "      <td>420.0</td>\n",
       "      <td>574.0</td>\n",
       "      <td>['C31394']</td>\n",
       "      <td>28.0</td>\n",
       "      <td>1.0</td>\n",
       "      <td>6.0</td>\n",
       "      <td>0.0</td>\n",
       "    </tr>\n",
       "    <tr>\n",
       "      <th>740</th>\n",
       "      <td>12</td>\n",
       "      <td>2020-06-30</td>\n",
       "      <td>2020-08-31</td>\n",
       "      <td>butterfly</td>\n",
       "      <td>DESKTOP</td>\n",
       "      <td>298.0</td>\n",
       "      <td>398.0</td>\n",
       "      <td>['C68608', 'C68615', 'C68622']</td>\n",
       "      <td>64.0</td>\n",
       "      <td>2.0</td>\n",
       "      <td>1.0</td>\n",
       "      <td>0.0</td>\n",
       "    </tr>\n",
       "    <tr>\n",
       "      <th>3911</th>\n",
       "      <td>10</td>\n",
       "      <td>2020-07-22</td>\n",
       "      <td>2020-08-03</td>\n",
       "      <td>butterfly</td>\n",
       "      <td>DESKTOP</td>\n",
       "      <td>420.0</td>\n",
       "      <td>574.0</td>\n",
       "      <td>['C75293']</td>\n",
       "      <td>14.0</td>\n",
       "      <td>3.0</td>\n",
       "      <td>1.0</td>\n",
       "      <td>0.0</td>\n",
       "    </tr>\n",
       "    <tr>\n",
       "      <th>33566</th>\n",
       "      <td>12</td>\n",
       "      <td>2021-06-01</td>\n",
       "      <td>2021-06-11</td>\n",
       "      <td>tg</td>\n",
       "      <td>DESKTOP</td>\n",
       "      <td>298.0</td>\n",
       "      <td>796.0</td>\n",
       "      <td>['C145882']</td>\n",
       "      <td>12.0</td>\n",
       "      <td>2.0</td>\n",
       "      <td>5.0</td>\n",
       "      <td>0.0</td>\n",
       "    </tr>\n",
       "    <tr>\n",
       "      <th>...</th>\n",
       "      <td>...</td>\n",
       "      <td>...</td>\n",
       "      <td>...</td>\n",
       "      <td>...</td>\n",
       "      <td>...</td>\n",
       "      <td>...</td>\n",
       "      <td>...</td>\n",
       "      <td>...</td>\n",
       "      <td>...</td>\n",
       "      <td>...</td>\n",
       "      <td>...</td>\n",
       "      <td>...</td>\n",
       "    </tr>\n",
       "    <tr>\n",
       "      <th>2898</th>\n",
       "      <td>12</td>\n",
       "      <td>2020-12-09</td>\n",
       "      <td>2020-12-09</td>\n",
       "      <td>butterfly</td>\n",
       "      <td>DESKTOP</td>\n",
       "      <td>298.0</td>\n",
       "      <td>398.0</td>\n",
       "      <td>['C114289']</td>\n",
       "      <td>2.0</td>\n",
       "      <td>3.0</td>\n",
       "      <td>3.0</td>\n",
       "      <td>0.0</td>\n",
       "    </tr>\n",
       "    <tr>\n",
       "      <th>22274</th>\n",
       "      <td>12</td>\n",
       "      <td>2020-05-11</td>\n",
       "      <td>2020-07-02</td>\n",
       "      <td>tg</td>\n",
       "      <td>DESKTOP</td>\n",
       "      <td>298.0</td>\n",
       "      <td>597.0</td>\n",
       "      <td>['C58708']</td>\n",
       "      <td>54.0</td>\n",
       "      <td>1.0</td>\n",
       "      <td>4.0</td>\n",
       "      <td>0.0</td>\n",
       "    </tr>\n",
       "    <tr>\n",
       "      <th>24142</th>\n",
       "      <td>12</td>\n",
       "      <td>2021-04-19</td>\n",
       "      <td>2021-05-02</td>\n",
       "      <td>tg</td>\n",
       "      <td>DESKTOP</td>\n",
       "      <td>298.0</td>\n",
       "      <td>796.0</td>\n",
       "      <td>['C143287']</td>\n",
       "      <td>15.0</td>\n",
       "      <td>1.0</td>\n",
       "      <td>7.0</td>\n",
       "      <td>0.0</td>\n",
       "    </tr>\n",
       "    <tr>\n",
       "      <th>31271</th>\n",
       "      <td>12</td>\n",
       "      <td>2021-09-06</td>\n",
       "      <td>2021-10-02</td>\n",
       "      <td>tg</td>\n",
       "      <td>DESKTOP</td>\n",
       "      <td>298.0</td>\n",
       "      <td>398.0</td>\n",
       "      <td>['C172817']</td>\n",
       "      <td>28.0</td>\n",
       "      <td>1.0</td>\n",
       "      <td>6.0</td>\n",
       "      <td>0.0</td>\n",
       "    </tr>\n",
       "    <tr>\n",
       "      <th>34992</th>\n",
       "      <td>12</td>\n",
       "      <td>2021-04-11</td>\n",
       "      <td>2021-04-17</td>\n",
       "      <td>butterfly</td>\n",
       "      <td>DESKTOP</td>\n",
       "      <td>298.0</td>\n",
       "      <td>398.0</td>\n",
       "      <td>['C139431']</td>\n",
       "      <td>8.0</td>\n",
       "      <td>7.0</td>\n",
       "      <td>6.0</td>\n",
       "      <td>0.0</td>\n",
       "    </tr>\n",
       "  </tbody>\n",
       "</table>\n",
       "<p>1324 rows × 12 columns</p>\n",
       "</div>"
      ],
      "text/plain": [
       "             chain_id  start_date    end_date     format   device  height  \\\n",
       "campaign_id                                                                 \n",
       "126                10  2020-08-28  2020-09-01  butterfly  DESKTOP   420.0   \n",
       "29125              10  2019-07-15  2019-08-10  butterfly  DESKTOP   420.0   \n",
       "740                12  2020-06-30  2020-08-31  butterfly  DESKTOP   298.0   \n",
       "3911               10  2020-07-22  2020-08-03  butterfly  DESKTOP   420.0   \n",
       "33566              12  2021-06-01  2021-06-11         tg  DESKTOP   298.0   \n",
       "...               ...         ...         ...        ...      ...     ...   \n",
       "2898               12  2020-12-09  2020-12-09  butterfly  DESKTOP   298.0   \n",
       "22274              12  2020-05-11  2020-07-02         tg  DESKTOP   298.0   \n",
       "24142              12  2021-04-19  2021-05-02         tg  DESKTOP   298.0   \n",
       "31271              12  2021-09-06  2021-10-02         tg  DESKTOP   298.0   \n",
       "34992              12  2021-04-11  2021-04-17  butterfly  DESKTOP   298.0   \n",
       "\n",
       "             width                       iremoteid  days  start_day  end_day  \\\n",
       "campaign_id                                                                    \n",
       "126          574.0            ['C83953', 'C83957']   6.0        5.0      2.0   \n",
       "29125        574.0                      ['C31394']  28.0        1.0      6.0   \n",
       "740          398.0  ['C68608', 'C68615', 'C68622']  64.0        2.0      1.0   \n",
       "3911         574.0                      ['C75293']  14.0        3.0      1.0   \n",
       "33566        796.0                     ['C145882']  12.0        2.0      5.0   \n",
       "...            ...                             ...   ...        ...      ...   \n",
       "2898         398.0                     ['C114289']   2.0        3.0      3.0   \n",
       "22274        597.0                      ['C58708']  54.0        1.0      4.0   \n",
       "24142        796.0                     ['C143287']  15.0        1.0      7.0   \n",
       "31271        398.0                     ['C172817']  28.0        1.0      6.0   \n",
       "34992        398.0                     ['C139431']   8.0        7.0      6.0   \n",
       "\n",
       "             shop  \n",
       "campaign_id        \n",
       "126           0.0  \n",
       "29125         0.0  \n",
       "740           0.0  \n",
       "3911          0.0  \n",
       "33566         0.0  \n",
       "...           ...  \n",
       "2898          0.0  \n",
       "22274         0.0  \n",
       "24142         0.0  \n",
       "31271         0.0  \n",
       "34992         0.0  \n",
       "\n",
       "[1324 rows x 12 columns]"
      ]
     },
     "execution_count": 4,
     "metadata": {},
     "output_type": "execute_result"
    }
   ],
   "source": [
    "test"
   ]
  },
  {
   "cell_type": "markdown",
   "id": "94569192",
   "metadata": {},
   "source": [
    "## 3. Data exploration"
   ]
  },
  {
   "cell_type": "code",
   "execution_count": 5,
   "id": "f9742144",
   "metadata": {},
   "outputs": [
    {
     "name": "stdout",
     "output_type": "stream",
     "text": [
      "Number of columns : 13\n"
     ]
    }
   ],
   "source": [
    "print(\"Number of columns : {}\".format(len(train.columns)))"
   ]
  },
  {
   "cell_type": "code",
   "execution_count": 6,
   "id": "9c9902ce",
   "metadata": {},
   "outputs": [
    {
     "data": {
      "text/html": [
       "<div>\n",
       "<style scoped>\n",
       "    .dataframe tbody tr th:only-of-type {\n",
       "        vertical-align: middle;\n",
       "    }\n",
       "\n",
       "    .dataframe tbody tr th {\n",
       "        vertical-align: top;\n",
       "    }\n",
       "\n",
       "    .dataframe thead th {\n",
       "        text-align: right;\n",
       "    }\n",
       "</style>\n",
       "<table border=\"1\" class=\"dataframe\">\n",
       "  <thead>\n",
       "    <tr style=\"text-align: right;\">\n",
       "      <th></th>\n",
       "      <th>chain_id</th>\n",
       "      <th>height</th>\n",
       "      <th>width</th>\n",
       "      <th>days</th>\n",
       "      <th>start_day</th>\n",
       "      <th>end_day</th>\n",
       "      <th>shop</th>\n",
       "      <th>budget</th>\n",
       "    </tr>\n",
       "  </thead>\n",
       "  <tbody>\n",
       "    <tr>\n",
       "      <th>count</th>\n",
       "      <td>3988.000000</td>\n",
       "      <td>3988.000000</td>\n",
       "      <td>3988.000000</td>\n",
       "      <td>3988.000000</td>\n",
       "      <td>3988.000000</td>\n",
       "      <td>3988.000000</td>\n",
       "      <td>3988.000000</td>\n",
       "      <td>3988.000000</td>\n",
       "    </tr>\n",
       "    <tr>\n",
       "      <th>mean</th>\n",
       "      <td>10.916249</td>\n",
       "      <td>357.299147</td>\n",
       "      <td>656.832999</td>\n",
       "      <td>23.998495</td>\n",
       "      <td>3.062688</td>\n",
       "      <td>4.230441</td>\n",
       "      <td>0.007021</td>\n",
       "      <td>16469.052835</td>\n",
       "    </tr>\n",
       "    <tr>\n",
       "      <th>std</th>\n",
       "      <td>1.454780</td>\n",
       "      <td>111.035855</td>\n",
       "      <td>288.019370</td>\n",
       "      <td>27.788634</td>\n",
       "      <td>1.891351</td>\n",
       "      <td>2.181921</td>\n",
       "      <td>0.083508</td>\n",
       "      <td>29185.986940</td>\n",
       "    </tr>\n",
       "    <tr>\n",
       "      <th>min</th>\n",
       "      <td>7.000000</td>\n",
       "      <td>15.000000</td>\n",
       "      <td>240.000000</td>\n",
       "      <td>2.000000</td>\n",
       "      <td>1.000000</td>\n",
       "      <td>1.000000</td>\n",
       "      <td>0.000000</td>\n",
       "      <td>779.658020</td>\n",
       "    </tr>\n",
       "    <tr>\n",
       "      <th>25%</th>\n",
       "      <td>11.000000</td>\n",
       "      <td>298.000000</td>\n",
       "      <td>398.000000</td>\n",
       "      <td>8.000000</td>\n",
       "      <td>1.000000</td>\n",
       "      <td>2.000000</td>\n",
       "      <td>0.000000</td>\n",
       "      <td>5251.781250</td>\n",
       "    </tr>\n",
       "    <tr>\n",
       "      <th>50%</th>\n",
       "      <td>11.000000</td>\n",
       "      <td>350.000000</td>\n",
       "      <td>574.000000</td>\n",
       "      <td>16.000000</td>\n",
       "      <td>3.000000</td>\n",
       "      <td>4.000000</td>\n",
       "      <td>0.000000</td>\n",
       "      <td>8889.082855</td>\n",
       "    </tr>\n",
       "    <tr>\n",
       "      <th>75%</th>\n",
       "      <td>12.000000</td>\n",
       "      <td>472.000000</td>\n",
       "      <td>995.000000</td>\n",
       "      <td>29.000000</td>\n",
       "      <td>4.000000</td>\n",
       "      <td>6.000000</td>\n",
       "      <td>0.000000</td>\n",
       "      <td>12610.314751</td>\n",
       "    </tr>\n",
       "    <tr>\n",
       "      <th>max</th>\n",
       "      <td>12.000000</td>\n",
       "      <td>1080.000000</td>\n",
       "      <td>2560.000000</td>\n",
       "      <td>298.000000</td>\n",
       "      <td>7.000000</td>\n",
       "      <td>7.000000</td>\n",
       "      <td>1.000000</td>\n",
       "      <td>448000.000000</td>\n",
       "    </tr>\n",
       "  </tbody>\n",
       "</table>\n",
       "</div>"
      ],
      "text/plain": [
       "          chain_id       height        width         days    start_day  \\\n",
       "count  3988.000000  3988.000000  3988.000000  3988.000000  3988.000000   \n",
       "mean     10.916249   357.299147   656.832999    23.998495     3.062688   \n",
       "std       1.454780   111.035855   288.019370    27.788634     1.891351   \n",
       "min       7.000000    15.000000   240.000000     2.000000     1.000000   \n",
       "25%      11.000000   298.000000   398.000000     8.000000     1.000000   \n",
       "50%      11.000000   350.000000   574.000000    16.000000     3.000000   \n",
       "75%      12.000000   472.000000   995.000000    29.000000     4.000000   \n",
       "max      12.000000  1080.000000  2560.000000   298.000000     7.000000   \n",
       "\n",
       "           end_day         shop         budget  \n",
       "count  3988.000000  3988.000000    3988.000000  \n",
       "mean      4.230441     0.007021   16469.052835  \n",
       "std       2.181921     0.083508   29185.986940  \n",
       "min       1.000000     0.000000     779.658020  \n",
       "25%       2.000000     0.000000    5251.781250  \n",
       "50%       4.000000     0.000000    8889.082855  \n",
       "75%       6.000000     0.000000   12610.314751  \n",
       "max       7.000000     1.000000  448000.000000  "
      ]
     },
     "execution_count": 6,
     "metadata": {},
     "output_type": "execute_result"
    }
   ],
   "source": [
    "train.describe()"
   ]
  },
  {
   "cell_type": "code",
   "execution_count": 7,
   "id": "8ba42609",
   "metadata": {
    "scrolled": false
   },
   "outputs": [
    {
     "name": "stdout",
     "output_type": "stream",
     "text": [
      "<class 'pandas.core.frame.DataFrame'>\n",
      "Int64Index: 3988 entries, 8963 to 8636\n",
      "Data columns (total 13 columns):\n",
      " #   Column      Non-Null Count  Dtype  \n",
      "---  ------      --------------  -----  \n",
      " 0   chain_id    3988 non-null   int64  \n",
      " 1   start_date  3988 non-null   object \n",
      " 2   end_date    3988 non-null   object \n",
      " 3   format      3988 non-null   object \n",
      " 4   device      3988 non-null   object \n",
      " 5   height      3988 non-null   float64\n",
      " 6   width       3988 non-null   float64\n",
      " 7   iremoteid   3988 non-null   object \n",
      " 8   days        3988 non-null   float64\n",
      " 9   start_day   3988 non-null   float64\n",
      " 10  end_day     3988 non-null   float64\n",
      " 11  shop        3988 non-null   float64\n",
      " 12  budget      3988 non-null   float64\n",
      "dtypes: float64(7), int64(1), object(5)\n",
      "memory usage: 436.2+ KB\n"
     ]
    }
   ],
   "source": [
    "train.info()"
   ]
  },
  {
   "cell_type": "code",
   "execution_count": 8,
   "id": "5d87f95c",
   "metadata": {},
   "outputs": [],
   "source": [
    "train['shop'] = train['shop'].astype('int')\n",
    "train['days'] = train['days'].astype('int')\n",
    "train['start_day'] = train['start_day'].astype('int')\n",
    "train['end_day'] = train['end_day'].astype('int')"
   ]
  },
  {
   "cell_type": "markdown",
   "id": "35c0b9cc",
   "metadata": {},
   "source": [
    "### Check for null values"
   ]
  },
  {
   "cell_type": "code",
   "execution_count": 9,
   "id": "d9048360",
   "metadata": {},
   "outputs": [
    {
     "data": {
      "text/plain": [
       "chain_id      0\n",
       "start_date    0\n",
       "end_date      0\n",
       "format        0\n",
       "device        0\n",
       "height        0\n",
       "width         0\n",
       "iremoteid     0\n",
       "days          0\n",
       "start_day     0\n",
       "end_day       0\n",
       "shop          0\n",
       "budget        0\n",
       "dtype: int64"
      ]
     },
     "execution_count": 9,
     "metadata": {},
     "output_type": "execute_result"
    }
   ],
   "source": [
    "train.isna().sum()"
   ]
  },
  {
   "cell_type": "markdown",
   "id": "db55b774",
   "metadata": {},
   "source": [
    "There are no null values in our train dataset."
   ]
  },
  {
   "cell_type": "markdown",
   "id": "ce0c72cd",
   "metadata": {},
   "source": [
    "## Columns"
   ]
  },
  {
   "cell_type": "code",
   "execution_count": 10,
   "id": "bf147b50",
   "metadata": {},
   "outputs": [],
   "source": [
    "# sns.pairplot(data = train)"
   ]
  },
  {
   "cell_type": "code",
   "execution_count": 11,
   "id": "794aa973",
   "metadata": {},
   "outputs": [],
   "source": [
    "to_drop = []"
   ]
  },
  {
   "cell_type": "markdown",
   "id": "ac5592af",
   "metadata": {},
   "source": [
    "### iremoteid"
   ]
  },
  {
   "cell_type": "code",
   "execution_count": 12,
   "id": "4aa45e30",
   "metadata": {},
   "outputs": [],
   "source": [
    "train['iremoteid_count'] = train['iremoteid'].str.count(',')+1\n",
    "test['iremoteid_count'] = test['iremoteid'].str.count(',')+1"
   ]
  },
  {
   "cell_type": "code",
   "execution_count": 13,
   "id": "519d88ed",
   "metadata": {},
   "outputs": [
    {
     "data": {
      "text/plain": [
       "campaign_id\n",
       "8963     1\n",
       "11875    1\n",
       "25899    1\n",
       "25458    1\n",
       "35293    1\n",
       "        ..\n",
       "5536     1\n",
       "22449    1\n",
       "28382    1\n",
       "1327     1\n",
       "8636     1\n",
       "Name: iremoteid_count, Length: 3988, dtype: int64"
      ]
     },
     "execution_count": 13,
     "metadata": {},
     "output_type": "execute_result"
    }
   ],
   "source": [
    "train['iremoteid_count']"
   ]
  },
  {
   "cell_type": "markdown",
   "id": "cb01e5fe",
   "metadata": {},
   "source": [
    "### chain_id\t"
   ]
  },
  {
   "cell_type": "code",
   "execution_count": 14,
   "id": "14846e33",
   "metadata": {},
   "outputs": [
    {
     "data": {
      "text/plain": [
       "array([12, 11, 10,  7], dtype=int64)"
      ]
     },
     "execution_count": 14,
     "metadata": {},
     "output_type": "execute_result"
    }
   ],
   "source": [
    "train.chain_id.unique()"
   ]
  },
  {
   "cell_type": "code",
   "execution_count": 15,
   "id": "c504bb06",
   "metadata": {},
   "outputs": [],
   "source": [
    "\n",
    "dummies = pd.get_dummies(train['chain_id'], prefix='chain_id', prefix_sep='_', drop_first=True)\n",
    "train = pd.concat([train, dummies], axis=1)\n",
    "train.drop('chain_id', axis=1, inplace=True)\n"
   ]
  },
  {
   "cell_type": "code",
   "execution_count": 16,
   "id": "4fb37998",
   "metadata": {},
   "outputs": [],
   "source": [
    "\n",
    "dummies = pd.get_dummies(test['chain_id'], prefix='chain_id', prefix_sep='_', drop_first=True)\n",
    "test = pd.concat([test, dummies], axis=1)\n",
    "test.drop('chain_id', axis=1, inplace=True)\n"
   ]
  },
  {
   "cell_type": "markdown",
   "id": "9628e8a8",
   "metadata": {},
   "source": [
    "### format"
   ]
  },
  {
   "cell_type": "code",
   "execution_count": 17,
   "id": "87ddd000",
   "metadata": {},
   "outputs": [
    {
     "data": {
      "text/plain": [
       "array(['banner', 'butterfly', 'showcase', 'stoprayon', 'tg', 'shop',\n",
       "       'lucky cart', 'pmp', 'highco'], dtype=object)"
      ]
     },
     "execution_count": 17,
     "metadata": {},
     "output_type": "execute_result"
    }
   ],
   "source": [
    "train.format.unique()"
   ]
  },
  {
   "cell_type": "code",
   "execution_count": 18,
   "id": "01784e8c",
   "metadata": {},
   "outputs": [],
   "source": [
    "dummies = pd.get_dummies(train['format'], prefix='format', prefix_sep='_', drop_first=True)\n",
    "train = pd.concat([train, dummies], axis=1)\n",
    "train.drop('format', axis=1, inplace=True)"
   ]
  },
  {
   "cell_type": "code",
   "execution_count": 19,
   "id": "d24841f1",
   "metadata": {},
   "outputs": [],
   "source": [
    "dummies = pd.get_dummies(test['format'], prefix='format', prefix_sep='_', drop_first=True)\n",
    "test = pd.concat([test, dummies], axis=1)\n",
    "test.drop('format', axis=1, inplace=True)"
   ]
  },
  {
   "cell_type": "markdown",
   "id": "daf720e0",
   "metadata": {},
   "source": [
    "### device"
   ]
  },
  {
   "cell_type": "code",
   "execution_count": 20,
   "id": "3cd0fdaa",
   "metadata": {},
   "outputs": [
    {
     "data": {
      "text/plain": [
       "array(['DESKTOP'], dtype=object)"
      ]
     },
     "execution_count": 20,
     "metadata": {},
     "output_type": "execute_result"
    }
   ],
   "source": [
    "train.device.unique()"
   ]
  },
  {
   "cell_type": "markdown",
   "id": "b78b937d",
   "metadata": {},
   "source": [
    "There is only one value in the device column so we have to drop it."
   ]
  },
  {
   "cell_type": "code",
   "execution_count": 21,
   "id": "29c97b54",
   "metadata": {},
   "outputs": [],
   "source": [
    "to_drop.append(\"device\")"
   ]
  },
  {
   "cell_type": "markdown",
   "id": "f531ef27",
   "metadata": {},
   "source": [
    "### iremoteid"
   ]
  },
  {
   "cell_type": "code",
   "execution_count": 22,
   "id": "9559c0fd",
   "metadata": {},
   "outputs": [
    {
     "data": {
      "text/plain": [
       "3986"
      ]
     },
     "execution_count": 22,
     "metadata": {},
     "output_type": "execute_result"
    }
   ],
   "source": [
    "len(train.iremoteid.unique())"
   ]
  },
  {
   "cell_type": "code",
   "execution_count": 23,
   "id": "e34d55e3",
   "metadata": {},
   "outputs": [
    {
     "data": {
      "text/plain": [
       "campaign_id\n",
       "8963       ['31834']\n",
       "11875     ['C75204']\n",
       "25899     ['CB9645']\n",
       "25458    ['C111392']\n",
       "35293      ['34341']\n",
       "            ...     \n",
       "5536     ['C179459']\n",
       "22449     ['103287']\n",
       "28382    ['C119433']\n",
       "1327     ['C153841']\n",
       "8636       ['29442']\n",
       "Name: iremoteid, Length: 3988, dtype: object"
      ]
     },
     "execution_count": 23,
     "metadata": {},
     "output_type": "execute_result"
    }
   ],
   "source": [
    "train.iremoteid"
   ]
  },
  {
   "cell_type": "code",
   "execution_count": 24,
   "id": "b0dde1d6",
   "metadata": {},
   "outputs": [],
   "source": [
    "iremoteid_list = []\n",
    "\n",
    "for l in list(train.iremoteid):\n",
    "    for i in l:\n",
    "        iremoteid_list.append(i)"
   ]
  },
  {
   "cell_type": "code",
   "execution_count": 25,
   "id": "d804165e",
   "metadata": {},
   "outputs": [
    {
     "data": {
      "text/plain": [
       "50141"
      ]
     },
     "execution_count": 25,
     "metadata": {},
     "output_type": "execute_result"
    }
   ],
   "source": [
    "len(iremoteid_list)"
   ]
  },
  {
   "cell_type": "markdown",
   "id": "7af5ffdc",
   "metadata": {},
   "source": [
    "iremoteid should be dropped"
   ]
  },
  {
   "cell_type": "code",
   "execution_count": 26,
   "id": "00daffe9",
   "metadata": {},
   "outputs": [],
   "source": [
    "to_drop.append(\"iremoteid\")"
   ]
  },
  {
   "cell_type": "markdown",
   "id": "01a3b324",
   "metadata": {},
   "source": [
    "### days"
   ]
  },
  {
   "cell_type": "code",
   "execution_count": 27,
   "id": "3b1baea1",
   "metadata": {},
   "outputs": [
    {
     "data": {
      "text/plain": [
       "156"
      ]
     },
     "execution_count": 27,
     "metadata": {},
     "output_type": "execute_result"
    }
   ],
   "source": [
    "len(train.days.unique())"
   ]
  },
  {
   "cell_type": "markdown",
   "id": "4555ed46",
   "metadata": {},
   "source": [
    "### shop"
   ]
  },
  {
   "cell_type": "code",
   "execution_count": 28,
   "id": "7a3fdaf2",
   "metadata": {},
   "outputs": [
    {
     "data": {
      "text/plain": [
       "0.0    1312\n",
       "1.0      12\n",
       "Name: shop, dtype: int64"
      ]
     },
     "execution_count": 28,
     "metadata": {},
     "output_type": "execute_result"
    }
   ],
   "source": [
    "test.shop.value_counts()"
   ]
  },
  {
   "cell_type": "markdown",
   "id": "a54e2932",
   "metadata": {},
   "source": [
    "### budget"
   ]
  },
  {
   "cell_type": "code",
   "execution_count": 29,
   "id": "f6eb5296",
   "metadata": {},
   "outputs": [
    {
     "data": {
      "text/plain": [
       "<AxesSubplot:>"
      ]
     },
     "execution_count": 29,
     "metadata": {},
     "output_type": "execute_result"
    },
    {
     "data": {
      "image/png": "[encoded data removed]",
      "text/plain": [
       "<Figure size 432x288 with 1 Axes>"
      ]
     },
     "metadata": {
      "needs_background": "light"
     },
     "output_type": "display_data"
    }
   ],
   "source": [
    "train['budget'].hist(bins=20)"
   ]
  },
  {
   "cell_type": "code",
   "execution_count": 30,
   "id": "40c27e26",
   "metadata": {},
   "outputs": [
    {
     "data": {
      "text/plain": [
       "<AxesSubplot:xlabel='budget', ylabel='Density'>"
      ]
     },
     "execution_count": 30,
     "metadata": {},
     "output_type": "execute_result"
    },
    {
     "data": {
      "image/png": "[encoded data removed]",
      "text/plain": [
       "<Figure size 432x288 with 1 Axes>"
      ]
     },
     "metadata": {
      "needs_background": "light"
     },
     "output_type": "display_data"
    }
   ],
   "source": [
    "sns.kdeplot(data=train['budget'])"
   ]
  },
  {
   "cell_type": "code",
   "execution_count": 31,
   "id": "90492276",
   "metadata": {},
   "outputs": [],
   "source": [
    "#sns.boxplot(data=train['budget'])"
   ]
  },
  {
   "cell_type": "markdown",
   "id": "d1ecaf77",
   "metadata": {},
   "source": [
    "### height"
   ]
  },
  {
   "cell_type": "code",
   "execution_count": 32,
   "id": "0b30d23e",
   "metadata": {},
   "outputs": [],
   "source": [
    "#train['height'], _ = stats.boxcox(train['height'])\n",
    "#test['height'], _ = stats.boxcox(test['height'])"
   ]
  },
  {
   "cell_type": "code",
   "execution_count": 33,
   "id": "6d70aa9e",
   "metadata": {},
   "outputs": [
    {
     "data": {
      "text/plain": [
       "<AxesSubplot:>"
      ]
     },
     "execution_count": 33,
     "metadata": {},
     "output_type": "execute_result"
    },
    {
     "data": {
      "image/png": "[encoded data removed]",
      "text/plain": [
       "<Figure size 432x288 with 1 Axes>"
      ]
     },
     "metadata": {
      "needs_background": "light"
     },
     "output_type": "display_data"
    }
   ],
   "source": [
    "train['height'].hist(bins=20)"
   ]
  },
  {
   "cell_type": "code",
   "execution_count": 34,
   "id": "99ea81f2",
   "metadata": {},
   "outputs": [
    {
     "data": {
      "text/plain": [
       "<AxesSubplot:xlabel='height', ylabel='Density'>"
      ]
     },
     "execution_count": 34,
     "metadata": {},
     "output_type": "execute_result"
    },
    {
     "data": {
      "image/png": "[encoded data removed]",
      "text/plain": [
       "<Figure size 432x288 with 1 Axes>"
      ]
     },
     "metadata": {
      "needs_background": "light"
     },
     "output_type": "display_data"
    }
   ],
   "source": [
    "sns.kdeplot(data=train['height'])"
   ]
  },
  {
   "cell_type": "markdown",
   "id": "eac1adb8",
   "metadata": {},
   "source": [
    "### width"
   ]
  },
  {
   "cell_type": "code",
   "execution_count": 35,
   "id": "bfb11856",
   "metadata": {},
   "outputs": [],
   "source": [
    "#train['width'], _ = stats.boxcox(train['width'])\n",
    "#test['width'], _ = stats.boxcox(test['width'])"
   ]
  },
  {
   "cell_type": "code",
   "execution_count": 36,
   "id": "7cfaaeb1",
   "metadata": {},
   "outputs": [
    {
     "data": {
      "text/plain": [
       "<AxesSubplot:>"
      ]
     },
     "execution_count": 36,
     "metadata": {},
     "output_type": "execute_result"
    },
    {
     "data": {
      "image/png": "[encoded data removed]",
      "text/plain": [
       "<Figure size 432x288 with 1 Axes>"
      ]
     },
     "metadata": {
      "needs_background": "light"
     },
     "output_type": "display_data"
    }
   ],
   "source": [
    "train['width'].hist(bins=20)"
   ]
  },
  {
   "cell_type": "code",
   "execution_count": 37,
   "id": "ad176bab",
   "metadata": {},
   "outputs": [
    {
     "data": {
      "text/plain": [
       "<AxesSubplot:xlabel='width', ylabel='Density'>"
      ]
     },
     "execution_count": 37,
     "metadata": {},
     "output_type": "execute_result"
    },
    {
     "data": {
      "image/png": "[encoded data removed]",
      "text/plain": [
       "<Figure size 432x288 with 1 Axes>"
      ]
     },
     "metadata": {
      "needs_background": "light"
     },
     "output_type": "display_data"
    }
   ],
   "source": [
    "sns.kdeplot(data=train['width'])"
   ]
  },
  {
   "cell_type": "markdown",
   "id": "ebad34d3",
   "metadata": {},
   "source": [
    "### height width product"
   ]
  },
  {
   "cell_type": "code",
   "execution_count": 38,
   "id": "b3fe0d98",
   "metadata": {},
   "outputs": [],
   "source": [
    "# train['product'] = train['height']*train['width']\n",
    "# test['product'] = test['height']*test['width']"
   ]
  },
  {
   "cell_type": "code",
   "execution_count": null,
   "id": "f70c0030",
   "metadata": {},
   "outputs": [],
   "source": []
  },
  {
   "cell_type": "code",
   "execution_count": 39,
   "id": "d8b9e30a",
   "metadata": {},
   "outputs": [],
   "source": [
    "train.drop(to_drop, axis=1, inplace=True)\n",
    "test.drop(to_drop, axis=1, inplace=True)"
   ]
  },
  {
   "cell_type": "markdown",
   "id": "56ba9ac8",
   "metadata": {},
   "source": [
    "## start_date"
   ]
  },
  {
   "cell_type": "code",
   "execution_count": 40,
   "id": "58de75c3",
   "metadata": {},
   "outputs": [],
   "source": [
    "train['start_date'] = pd.to_datetime(train['start_date'])\n",
    "test['start_date'] = pd.to_datetime(test['start_date'])"
   ]
  },
  {
   "cell_type": "code",
   "execution_count": 41,
   "id": "fc347d73",
   "metadata": {},
   "outputs": [],
   "source": [
    "train['start_date:year'] = train['start_date'].dt.year\n",
    "test['start_date:year'] = test['start_date'].dt.year\n",
    "\n",
    "train['start_date:month'] = train['start_date'].dt.month\n",
    "test['start_date:month'] = test['start_date'].dt.month\n",
    "\n",
    "train['start_date:day'] = train['start_date'].dt.day\n",
    "test['start_date:day'] = test['start_date'].dt.day"
   ]
  },
  {
   "cell_type": "code",
   "execution_count": 42,
   "id": "e2813b79",
   "metadata": {},
   "outputs": [],
   "source": [
    "# train['start_date:is_year_start'] = train['start_date'].dt.is_year_start\n",
    "# test['start_date:is_year_start'] = test['start_date'].dt.is_year_start\n",
    "\n",
    "\n",
    "train['start_date:is_quarter_start'] = train['start_date'].dt.is_quarter_start\n",
    "test['start_date:is_quarter_start'] = test['start_date'].dt.is_quarter_start\n",
    "\n",
    "\n",
    "train['start_date:is_month_start'] = train['start_date'].dt.is_month_start\n",
    "test['start_date:is_month_start'] = test['start_date'].dt.is_month_start\n",
    "\n",
    "\n",
    "train['start_date:is_month_end'] = train['start_date'].dt.is_month_end\n",
    "test['start_date:is_month_end'] = test['start_date'].dt.is_month_end\n"
   ]
  },
  {
   "cell_type": "code",
   "execution_count": 43,
   "id": "05d464dd",
   "metadata": {},
   "outputs": [],
   "source": [
    "train['start_date:is_weekend'] = np.where(train['start_day'].isin([6,7]), 1,0)\n",
    "test['start_date:is_weekend'] = np.where(test['start_day'].isin([6,7]), 1,0)"
   ]
  },
  {
   "cell_type": "markdown",
   "id": "4ea1fe48",
   "metadata": {},
   "source": [
    "## end_date"
   ]
  },
  {
   "cell_type": "code",
   "execution_count": 44,
   "id": "603eac20",
   "metadata": {},
   "outputs": [],
   "source": [
    "train['end_date'] = pd.to_datetime(train['end_date'])\n",
    "test['end_date'] = pd.to_datetime(test['end_date'])"
   ]
  },
  {
   "cell_type": "code",
   "execution_count": 45,
   "id": "08c089a1",
   "metadata": {},
   "outputs": [],
   "source": [
    "train['end_date:month'] = train['end_date'].dt.month\n",
    "test['end_date:month'] = test['end_date'].dt.month\n",
    "\n",
    "train['end_date:day'] = train['end_date'].dt.day\n",
    "test['end_date:day'] = test['end_date'].dt.day"
   ]
  },
  {
   "cell_type": "code",
   "execution_count": 46,
   "id": "5ed0068c",
   "metadata": {},
   "outputs": [],
   "source": [
    "# train['end_date:is_year_start'] = train['end_date'].dt.is_year_start\n",
    "# test['end_date:is_year_start'] = test['end_date'].dt.is_year_start\n",
    "\n",
    "\n",
    "train['end_date:is_quarter_start'] = train['end_date'].dt.is_quarter_start\n",
    "test['end_date:is_quarter_start'] = test['end_date'].dt.is_quarter_start\n",
    "\n",
    "\n",
    "train['end_date:is_month_start'] = train['end_date'].dt.is_month_start\n",
    "test['end_date:is_month_start'] = test['end_date'].dt.is_month_start\n",
    "\n",
    "\n",
    "train['end_date:is_month_end'] = train['end_date'].dt.is_month_end\n",
    "test['end_date:is_month_end'] = test['end_date'].dt.is_month_end"
   ]
  },
  {
   "cell_type": "code",
   "execution_count": 47,
   "id": "a1e9669b",
   "metadata": {},
   "outputs": [],
   "source": [
    "train['end_date:is_weekend'] = np.where(train['end_day'].isin([5,6]), 1,0)\n",
    "test['end_date:is_weekend'] = np.where(test['end_day'].isin([5,6]), 1,0)"
   ]
  },
  {
   "cell_type": "code",
   "execution_count": null,
   "id": "3c33a791",
   "metadata": {},
   "outputs": [],
   "source": []
  },
  {
   "cell_type": "markdown",
   "id": "4d28b763",
   "metadata": {},
   "source": [
    "## Correlations"
   ]
  },
  {
   "cell_type": "code",
   "execution_count": 48,
   "id": "4e515868",
   "metadata": {},
   "outputs": [
    {
     "data": {
      "text/html": [
       "<div>\n",
       "<style scoped>\n",
       "    .dataframe tbody tr th:only-of-type {\n",
       "        vertical-align: middle;\n",
       "    }\n",
       "\n",
       "    .dataframe tbody tr th {\n",
       "        vertical-align: top;\n",
       "    }\n",
       "\n",
       "    .dataframe thead th {\n",
       "        text-align: right;\n",
       "    }\n",
       "</style>\n",
       "<table border=\"1\" class=\"dataframe\">\n",
       "  <thead>\n",
       "    <tr style=\"text-align: right;\">\n",
       "      <th></th>\n",
       "      <th>start_date:month</th>\n",
       "      <th>end_date:month</th>\n",
       "    </tr>\n",
       "  </thead>\n",
       "  <tbody>\n",
       "    <tr>\n",
       "      <th>start_date:month</th>\n",
       "      <td>1.000000</td>\n",
       "      <td>0.890023</td>\n",
       "    </tr>\n",
       "    <tr>\n",
       "      <th>end_date:month</th>\n",
       "      <td>0.890023</td>\n",
       "      <td>1.000000</td>\n",
       "    </tr>\n",
       "  </tbody>\n",
       "</table>\n",
       "</div>"
      ],
      "text/plain": [
       "                  start_date:month  end_date:month\n",
       "start_date:month          1.000000        0.890023\n",
       "end_date:month            0.890023        1.000000"
      ]
     },
     "execution_count": 48,
     "metadata": {},
     "output_type": "execute_result"
    }
   ],
   "source": [
    "cor_matrix = train[['start_date:month', 'end_date:month']].corr().abs()\n",
    "cor_matrix"
   ]
  },
  {
   "cell_type": "code",
   "execution_count": 49,
   "id": "b3e57bb0",
   "metadata": {},
   "outputs": [],
   "source": [
    "train.drop('start_date:month', axis=1, inplace=True)\n",
    "test.drop('start_date:month', axis=1, inplace=True)"
   ]
  },
  {
   "cell_type": "code",
   "execution_count": 50,
   "id": "7cad7b7c",
   "metadata": {},
   "outputs": [
    {
     "data": {
      "text/html": [
       "<div>\n",
       "<style scoped>\n",
       "    .dataframe tbody tr th:only-of-type {\n",
       "        vertical-align: middle;\n",
       "    }\n",
       "\n",
       "    .dataframe tbody tr th {\n",
       "        vertical-align: top;\n",
       "    }\n",
       "\n",
       "    .dataframe thead th {\n",
       "        text-align: right;\n",
       "    }\n",
       "</style>\n",
       "<table border=\"1\" class=\"dataframe\">\n",
       "  <thead>\n",
       "    <tr style=\"text-align: right;\">\n",
       "      <th></th>\n",
       "      <th>format_shop</th>\n",
       "      <th>shop</th>\n",
       "    </tr>\n",
       "  </thead>\n",
       "  <tbody>\n",
       "    <tr>\n",
       "      <th>format_shop</th>\n",
       "      <td>1.0</td>\n",
       "      <td>1.0</td>\n",
       "    </tr>\n",
       "    <tr>\n",
       "      <th>shop</th>\n",
       "      <td>1.0</td>\n",
       "      <td>1.0</td>\n",
       "    </tr>\n",
       "  </tbody>\n",
       "</table>\n",
       "</div>"
      ],
      "text/plain": [
       "             format_shop  shop\n",
       "format_shop          1.0   1.0\n",
       "shop                 1.0   1.0"
      ]
     },
     "execution_count": 50,
     "metadata": {},
     "output_type": "execute_result"
    }
   ],
   "source": [
    "cor_matrix = train[['format_shop', 'shop']].corr().abs()\n",
    "cor_matrix"
   ]
  },
  {
   "cell_type": "code",
   "execution_count": 51,
   "id": "145486f5",
   "metadata": {},
   "outputs": [],
   "source": [
    "train.drop('format_shop', axis=1, inplace=True)\n",
    "test.drop('format_shop', axis=1, inplace=True)"
   ]
  },
  {
   "cell_type": "code",
   "execution_count": 52,
   "id": "c20f6889",
   "metadata": {},
   "outputs": [],
   "source": [
    "cor_matrix = train.corr().abs()\n",
    "#upper_tri = cor_matrix.where(np.triu(np.ones(cor_matrix.shape),k=1).astype(bool))"
   ]
  },
  {
   "cell_type": "code",
   "execution_count": 53,
   "id": "2d92f685",
   "metadata": {},
   "outputs": [
    {
     "data": {
      "image/png": "[encoded data removed]",
      "text/plain": [
       "<Figure size 1080x576 with 2 Axes>"
      ]
     },
     "metadata": {
      "needs_background": "light"
     },
     "output_type": "display_data"
    }
   ],
   "source": [
    "plt.gcf().set_size_inches(15, 8)\n",
    "heatmap = sns.heatmap(cor_matrix, vmin=-1, vmax=1)\n",
    "heatmap.set_title('Correlation Heatmap', fontdict={'fontsize':18}, pad=12)\n",
    "manager = plt.get_current_fig_manager()\n",
    "manager.full_screen_toggle()\n",
    "plt.show()"
   ]
  },
  {
   "cell_type": "code",
   "execution_count": 54,
   "id": "b286ceb7",
   "metadata": {},
   "outputs": [
    {
     "data": {
      "text/plain": [
       "<AxesSubplot:xlabel='days', ylabel='budget'>"
      ]
     },
     "execution_count": 54,
     "metadata": {},
     "output_type": "execute_result"
    },
    {
     "data": {
      "image/png": "[encoded data removed]",
      "text/plain": [
       "<Figure size 432x288 with 1 Axes>"
      ]
     },
     "metadata": {
      "needs_background": "light"
     },
     "output_type": "display_data"
    }
   ],
   "source": [
    "train[['days', 'budget']].plot.scatter(x = 'days', y='budget')"
   ]
  },
  {
   "cell_type": "code",
   "execution_count": 55,
   "id": "97516ef5",
   "metadata": {},
   "outputs": [
    {
     "data": {
      "text/plain": [
       "<AxesSubplot:xlabel='height', ylabel='width'>"
      ]
     },
     "execution_count": 55,
     "metadata": {},
     "output_type": "execute_result"
    },
    {
     "data": {
      "image/png": "[encoded data removed]",
      "text/plain": [
       "<Figure size 432x288 with 1 Axes>"
      ]
     },
     "metadata": {
      "needs_background": "light"
     },
     "output_type": "display_data"
    }
   ],
   "source": [
    "train[['height', 'width']].plot.scatter(x = 'height', y='width')"
   ]
  },
  {
   "cell_type": "code",
   "execution_count": 56,
   "id": "45767a4a",
   "metadata": {},
   "outputs": [
    {
     "data": {
      "text/plain": [
       "<AxesSubplot:xlabel='height', ylabel='budget'>"
      ]
     },
     "execution_count": 56,
     "metadata": {},
     "output_type": "execute_result"
    },
    {
     "data": {
      "image/png": "[encoded data removed]",
      "text/plain": [
       "<Figure size 432x288 with 1 Axes>"
      ]
     },
     "metadata": {
      "needs_background": "light"
     },
     "output_type": "display_data"
    }
   ],
   "source": [
    "train[['height', 'budget']].plot.scatter(x = 'height', y='budget')"
   ]
  },
  {
   "cell_type": "code",
   "execution_count": 57,
   "id": "fdd9816e",
   "metadata": {},
   "outputs": [
    {
     "data": {
      "text/plain": [
       "<AxesSubplot:xlabel='width', ylabel='budget'>"
      ]
     },
     "execution_count": 57,
     "metadata": {},
     "output_type": "execute_result"
    },
    {
     "data": {
      "image/png": "[encoded data removed]",
      "text/plain": [
       "<Figure size 432x288 with 1 Axes>"
      ]
     },
     "metadata": {
      "needs_background": "light"
     },
     "output_type": "display_data"
    }
   ],
   "source": [
    "train[['width', 'budget']].plot.scatter(x = 'width', y='budget')"
   ]
  },
  {
   "cell_type": "code",
   "execution_count": null,
   "id": "e740a295",
   "metadata": {},
   "outputs": [],
   "source": []
  },
  {
   "cell_type": "markdown",
   "id": "ecdd7b83",
   "metadata": {},
   "source": [
    "### Format"
   ]
  },
  {
   "cell_type": "code",
   "execution_count": null,
   "id": "7e88821a",
   "metadata": {},
   "outputs": [],
   "source": []
  },
  {
   "cell_type": "code",
   "execution_count": null,
   "id": "7b0e1646",
   "metadata": {},
   "outputs": [],
   "source": []
  },
  {
   "cell_type": "markdown",
   "id": "6b296912",
   "metadata": {},
   "source": [
    "## 4. Modeling"
   ]
  },
  {
   "cell_type": "code",
   "execution_count": 58,
   "id": "f18e91ee",
   "metadata": {},
   "outputs": [],
   "source": [
    "X = train.drop('budget', axis=1)\n",
    "y = train['budget']"
   ]
  },
  {
   "cell_type": "code",
   "execution_count": 59,
   "id": "cc03d46a",
   "metadata": {},
   "outputs": [],
   "source": [
    "X.drop(['start_date', 'end_date'], axis=1, inplace=True)"
   ]
  },
  {
   "cell_type": "code",
   "execution_count": 60,
   "id": "0a1a7c69",
   "metadata": {},
   "outputs": [],
   "source": [
    "X_train , X_test , y_train ,y_test = train_test_split(X,y, test_size=0.2, random_state=42, stratify=X['shop'])"
   ]
  },
  {
   "cell_type": "code",
   "execution_count": null,
   "id": "20c517bf",
   "metadata": {},
   "outputs": [],
   "source": []
  },
  {
   "cell_type": "code",
   "execution_count": null,
   "id": "ffc01a90",
   "metadata": {},
   "outputs": [],
   "source": []
  },
  {
   "cell_type": "code",
   "execution_count": null,
   "id": "bbd008b3",
   "metadata": {},
   "outputs": [],
   "source": []
  },
  {
   "cell_type": "markdown",
   "id": "352f96b5",
   "metadata": {},
   "source": [
    "### XGBRegressor"
   ]
  },
  {
   "cell_type": "code",
   "execution_count": 61,
   "id": "538a022e",
   "metadata": {},
   "outputs": [],
   "source": [
    "# lr = RandomForestRegressor(random_state=456)\n",
    "\n",
    "param_grid  = {\n",
    "    'n_estimators': [100, 500, 1000],\n",
    "    'max_depth': [3, 5, 7],\n",
    "    'learning_rate': [0.01, 0.05, 0.1],\n",
    "    'gamma': [0, 0.5, 1],\n",
    "    'min_child_weight': [1, 5, 10]\n",
    "}\n",
    "\n",
    "lr = XGBRegressor()\n",
    "\n",
    "# grid_search = GridSearchCV(lr, param_grid=param_grid, cv=5, scoring='neg_mean_squared_error')\n",
    "\n",
    "\n",
    "\n",
    "# lr.fit(X_train,y_train)\n",
    "\n",
    "# grid_search.fit(X_train, y_train)"
   ]
  },
  {
   "cell_type": "code",
   "execution_count": 62,
   "id": "a79b6667",
   "metadata": {},
   "outputs": [],
   "source": [
    "# print(\"Best hyperparameters: \", grid_search.best_params_)"
   ]
  },
  {
   "cell_type": "code",
   "execution_count": null,
   "id": "3d32b954",
   "metadata": {},
   "outputs": [],
   "source": []
  },
  {
   "cell_type": "code",
   "execution_count": null,
   "id": "899e1214",
   "metadata": {},
   "outputs": [],
   "source": []
  },
  {
   "cell_type": "code",
   "execution_count": null,
   "id": "80d0abce",
   "metadata": {},
   "outputs": [],
   "source": []
  },
  {
   "cell_type": "code",
   "execution_count": 63,
   "id": "752694de",
   "metadata": {},
   "outputs": [],
   "source": [
    "params = {'gamma': 1, 'learning_rate': 0.05, 'max_depth': 5, 'min_child_weight': 1, 'n_estimators': 1000}"
   ]
  },
  {
   "cell_type": "code",
   "execution_count": 64,
   "id": "29ad38ab",
   "metadata": {},
   "outputs": [
    {
     "data": {
      "text/html": [
       "<style>#sk-container-id-1 {color: black;background-color: white;}#sk-container-id-1 pre{padding: 0;}#sk-container-id-1 div.sk-toggleable {background-color: white;}#sk-container-id-1 label.sk-toggleable__label {cursor: pointer;display: block;width: 100%;margin-bottom: 0;padding: 0.3em;box-sizing: border-box;text-align: center;}#sk-container-id-1 label.sk-toggleable__label-arrow:before {content: \"▸\";float: left;margin-right: 0.25em;color: #696969;}#sk-container-id-1 label.sk-toggleable__label-arrow:hover:before {color: black;}#sk-container-id-1 div.sk-estimator:hover label.sk-toggleable__label-arrow:before {color: black;}#sk-container-id-1 div.sk-toggleable__content {max-height: 0;max-width: 0;overflow: hidden;text-align: left;background-color: #f0f8ff;}#sk-container-id-1 div.sk-toggleable__content pre {margin: 0.2em;color: black;border-radius: 0.25em;background-color: #f0f8ff;}#sk-container-id-1 input.sk-toggleable__control:checked~div.sk-toggleable__content {max-height: 200px;max-width: 100%;overflow: auto;}#sk-container-id-1 input.sk-toggleable__control:checked~label.sk-toggleable__label-arrow:before {content: \"▾\";}#sk-container-id-1 div.sk-estimator input.sk-toggleable__control:checked~label.sk-toggleable__label {background-color: #d4ebff;}#sk-container-id-1 div.sk-label input.sk-toggleable__control:checked~label.sk-toggleable__label {background-color: #d4ebff;}#sk-container-id-1 input.sk-hidden--visually {border: 0;clip: rect(1px 1px 1px 1px);clip: rect(1px, 1px, 1px, 1px);height: 1px;margin: -1px;overflow: hidden;padding: 0;position: absolute;width: 1px;}#sk-container-id-1 div.sk-estimator {font-family: monospace;background-color: #f0f8ff;border: 1px dotted black;border-radius: 0.25em;box-sizing: border-box;margin-bottom: 0.5em;}#sk-container-id-1 div.sk-estimator:hover {background-color: #d4ebff;}#sk-container-id-1 div.sk-parallel-item::after {content: \"\";width: 100%;border-bottom: 1px solid gray;flex-grow: 1;}#sk-container-id-1 div.sk-label:hover label.sk-toggleable__label {background-color: #d4ebff;}#sk-container-id-1 div.sk-serial::before {content: \"\";position: absolute;border-left: 1px solid gray;box-sizing: border-box;top: 0;bottom: 0;left: 50%;z-index: 0;}#sk-container-id-1 div.sk-serial {display: flex;flex-direction: column;align-items: center;background-color: white;padding-right: 0.2em;padding-left: 0.2em;position: relative;}#sk-container-id-1 div.sk-item {position: relative;z-index: 1;}#sk-container-id-1 div.sk-parallel {display: flex;align-items: stretch;justify-content: center;background-color: white;position: relative;}#sk-container-id-1 div.sk-item::before, #sk-container-id-1 div.sk-parallel-item::before {content: \"\";position: absolute;border-left: 1px solid gray;box-sizing: border-box;top: 0;bottom: 0;left: 50%;z-index: -1;}#sk-container-id-1 div.sk-parallel-item {display: flex;flex-direction: column;z-index: 1;position: relative;background-color: white;}#sk-container-id-1 div.sk-parallel-item:first-child::after {align-self: flex-end;width: 50%;}#sk-container-id-1 div.sk-parallel-item:last-child::after {align-self: flex-start;width: 50%;}#sk-container-id-1 div.sk-parallel-item:only-child::after {width: 0;}#sk-container-id-1 div.sk-dashed-wrapped {border: 1px dashed gray;margin: 0 0.4em 0.5em 0.4em;box-sizing: border-box;padding-bottom: 0.4em;background-color: white;}#sk-container-id-1 div.sk-label label {font-family: monospace;font-weight: bold;display: inline-block;line-height: 1.2em;}#sk-container-id-1 div.sk-label-container {text-align: center;}#sk-container-id-1 div.sk-container {/* jupyter's `normalize.less` sets `[hidden] { display: none; }` but bootstrap.min.css set `[hidden] { display: none !important; }` so we also need the `!important` here to be able to override the default hidden behavior on the sphinx rendered scikit-learn.org. See: https://github.com/scikit-learn/scikit-learn/issues/21755 */display: inline-block !important;position: relative;}#sk-container-id-1 div.sk-text-repr-fallback {display: none;}</style><div id=\"sk-container-id-1\" class=\"sk-top-container\"><div class=\"sk-text-repr-fallback\"><pre>XGBRegressor(base_score=0.5, booster=&#x27;gbtree&#x27;, callbacks=None,\n",
       "             colsample_bylevel=1, colsample_bynode=1, colsample_bytree=1,\n",
       "             early_stopping_rounds=None, enable_categorical=False,\n",
       "             eval_metric=None, gamma=1, gpu_id=-1, grow_policy=&#x27;depthwise&#x27;,\n",
       "             importance_type=None, interaction_constraints=&#x27;&#x27;,\n",
       "             learning_rate=0.05, max_bin=256, max_cat_to_onehot=4,\n",
       "             max_delta_step=0, max_depth=5, max_leaves=0, min_child_weight=1,\n",
       "             missing=nan, monotone_constraints=&#x27;()&#x27;, n_estimators=1000,\n",
       "             n_jobs=0, num_parallel_tree=1, predictor=&#x27;auto&#x27;, random_state=0,\n",
       "             reg_alpha=0, reg_lambda=1, ...)</pre><b>In a Jupyter environment, please rerun this cell to show the HTML representation or trust the notebook. <br />On GitHub, the HTML representation is unable to render, please try loading this page with nbviewer.org.</b></div><div class=\"sk-container\" hidden><div class=\"sk-item\"><div class=\"sk-estimator sk-toggleable\"><input class=\"sk-toggleable__control sk-hidden--visually\" id=\"sk-estimator-id-1\" type=\"checkbox\" checked><label for=\"sk-estimator-id-1\" class=\"sk-toggleable__label sk-toggleable__label-arrow\">XGBRegressor</label><div class=\"sk-toggleable__content\"><pre>XGBRegressor(base_score=0.5, booster=&#x27;gbtree&#x27;, callbacks=None,\n",
       "             colsample_bylevel=1, colsample_bynode=1, colsample_bytree=1,\n",
       "             early_stopping_rounds=None, enable_categorical=False,\n",
       "             eval_metric=None, gamma=1, gpu_id=-1, grow_policy=&#x27;depthwise&#x27;,\n",
       "             importance_type=None, interaction_constraints=&#x27;&#x27;,\n",
       "             learning_rate=0.05, max_bin=256, max_cat_to_onehot=4,\n",
       "             max_delta_step=0, max_depth=5, max_leaves=0, min_child_weight=1,\n",
       "             missing=nan, monotone_constraints=&#x27;()&#x27;, n_estimators=1000,\n",
       "             n_jobs=0, num_parallel_tree=1, predictor=&#x27;auto&#x27;, random_state=0,\n",
       "             reg_alpha=0, reg_lambda=1, ...)</pre></div></div></div></div></div>"
      ],
      "text/plain": [
       "XGBRegressor(base_score=0.5, booster='gbtree', callbacks=None,\n",
       "             colsample_bylevel=1, colsample_bynode=1, colsample_bytree=1,\n",
       "             early_stopping_rounds=None, enable_categorical=False,\n",
       "             eval_metric=None, gamma=1, gpu_id=-1, grow_policy='depthwise',\n",
       "             importance_type=None, interaction_constraints='',\n",
       "             learning_rate=0.05, max_bin=256, max_cat_to_onehot=4,\n",
       "             max_delta_step=0, max_depth=5, max_leaves=0, min_child_weight=1,\n",
       "             missing=nan, monotone_constraints='()', n_estimators=1000,\n",
       "             n_jobs=0, num_parallel_tree=1, predictor='auto', random_state=0,\n",
       "             reg_alpha=0, reg_lambda=1, ...)"
      ]
     },
     "execution_count": 64,
     "metadata": {},
     "output_type": "execute_result"
    }
   ],
   "source": [
    "lr = xgb.XGBRegressor(**params)\n",
    "lr.fit(X_train, y_train)"
   ]
  },
  {
   "cell_type": "code",
   "execution_count": 65,
   "id": "887c0249",
   "metadata": {},
   "outputs": [
    {
     "name": "stdout",
     "output_type": "stream",
     "text": [
      "Test:  905.7336203037743\n",
      "Train:  153.4677600026496\n"
     ]
    }
   ],
   "source": [
    "y_preds = lr.predict(X_test)\n",
    "rmse = mse(y_test,y_preds)**(1/2)\n",
    "print(\"Test: \", rmse)\n",
    "\n",
    "y_preds_train = lr.predict(X_train)\n",
    "rmset = mse(y_train,y_preds_train)**(1/2)\n",
    "print(\"Train: \", rmset)"
   ]
  },
  {
   "cell_type": "code",
   "execution_count": 66,
   "id": "aa3c4e67",
   "metadata": {},
   "outputs": [],
   "source": [
    "# kf = KFold(n_splits=10)\n",
    "\n",
    "# # Evaluate the model using cross-validation\n",
    "# cv_results = xgb.cv(lr.get_params(), xgb.DMatrix(X.drop(['start_date', 'end_date'], axis=1), label=y, enable_categorical=True), num_boost_round=100, folds=kf, metrics=\"rmse\", early_stopping_rounds=10)\n",
    "\n",
    "# print(cv_results)\n",
    "\n",
    "# # Get the average RMSE\n",
    "# avg_rmse = np.sqrt(np.mean(cv_results[\"test-rmse-mean\"]))\n",
    "# print(\"Average RMSE:\", avg_rmse)\n",
    "\n",
    "\n",
    "#####cv = RepeatedKFold(n_splits=10, n_repeats=1, random_state=777)\n",
    "# evaluate model\n",
    "####scores = cross_val_score(lr, X, y, scoring='neg_mean_squared_error', cv=cv, n_jobs=-1)\n",
    "\n",
    "#####scores = [math.sqrt(abs(i)) for i in scores]\n",
    "\n",
    "####print(scores)\n",
    "####print(np.array(scores).mean())\n",
    "####print(np.array(scores).std())"
   ]
  },
  {
   "cell_type": "code",
   "execution_count": 67,
   "id": "12848c21",
   "metadata": {},
   "outputs": [
    {
     "name": "stdout",
     "output_type": "stream",
     "text": [
      "[1.71935710e-04 4.41498065e-04 3.88189480e-02 3.18623002e-04\n",
      " 3.33479926e-04 1.67931139e-05 2.31797203e-05 3.08628398e-04\n",
      " 1.00817226e-04 4.68497747e-04 7.90019258e-05 4.16187362e-07\n",
      " 3.46896268e-05 5.89280855e-04 9.57547605e-01 3.76062621e-06\n",
      " 3.57171666e-05 8.13934457e-05 2.05608721e-05 1.52204238e-05\n",
      " 0.00000000e+00 9.91182333e-06 0.00000000e+00 5.94067897e-05\n",
      " 3.96010873e-05 3.93306371e-04 0.00000000e+00 4.95741415e-06\n",
      " 8.26809846e-05]\n"
     ]
    }
   ],
   "source": [
    "print(lr.feature_importances_)"
   ]
  },
  {
   "cell_type": "code",
   "execution_count": 68,
   "id": "5cc0f847",
   "metadata": {},
   "outputs": [
    {
     "data": {
      "text/plain": [
       "<AxesSubplot:title={'center':'Feature importance'}, xlabel='F score', ylabel='Features'>"
      ]
     },
     "execution_count": 68,
     "metadata": {},
     "output_type": "execute_result"
    },
    {
     "data": {
      "image/png": "[encoded data removed]",
      "text/plain": [
       "<Figure size 432x288 with 1 Axes>"
      ]
     },
     "metadata": {
      "needs_background": "light"
     },
     "output_type": "display_data"
    }
   ],
   "source": [
    "plot_importance(lr)"
   ]
  },
  {
   "cell_type": "markdown",
   "id": "b057ed92",
   "metadata": {},
   "source": [
    "## 5. Submission"
   ]
  },
  {
   "cell_type": "code",
   "execution_count": 69,
   "id": "87048137",
   "metadata": {},
   "outputs": [],
   "source": [
    "preds = lr.predict(test.drop(['start_date', 'end_date'], axis=1))"
   ]
  },
  {
   "cell_type": "code",
   "execution_count": 70,
   "id": "a2682cf7",
   "metadata": {},
   "outputs": [],
   "source": [
    "submission['budget'] = preds"
   ]
  },
  {
   "cell_type": "code",
   "execution_count": 71,
   "id": "9a9d7276",
   "metadata": {},
   "outputs": [],
   "source": [
    "submission.to_csv('ss.csv',index=False)"
   ]
  },
  {
   "cell_type": "raw",
   "id": "9120a19b",
   "metadata": {},
   "source": []
  }
 ],
 "metadata": {
  "kernelspec": {
   "display_name": "Python 3 (ipykernel)",
   "language": "python",
   "name": "python3"
  },
  "language_info": {
   "codemirror_mode": {
    "name": "ipython",
    "version": 3
   },
   "file_extension": ".py",
   "mimetype": "text/x-python",
   "name": "python",
   "nbconvert_exporter": "python",
   "pygments_lexer": "ipython3",
   "version": "3.9.4"
  }
 },
 "nbformat": 4,
 "nbformat_minor": 5
}
